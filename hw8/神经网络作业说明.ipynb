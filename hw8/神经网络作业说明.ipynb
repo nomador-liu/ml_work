{
 "cells": [
  {
   "metadata": {},
   "cell_type": "markdown",
   "source": "## 第一部分",
   "id": "c216d8cee0365df1"
  },
  {
   "metadata": {
    "ExecuteTime": {
     "end_time": "2025-09-02T00:45:16.942969Z",
     "start_time": "2025-09-02T00:45:16.937470Z"
    }
   },
   "cell_type": "code",
   "source": "",
   "id": "57a44240eaa13d03",
   "outputs": [],
   "execution_count": null
  },
  {
   "metadata": {},
   "cell_type": "markdown",
   "source": "### 简答题",
   "id": "c63b52b914e7bb74"
  },
  {
   "metadata": {},
   "cell_type": "markdown",
   "source": [
    "1. 为什么激活函数是训练一个多层感知机（MLP）的关键要素\n",
    "2. 列举三种常用的激活函数，说明一下它们的大概形状\n",
    "sigmoid激活，乙状函数，趋近于负无穷函数趋近于0，趋近于正无穷函数趋近于1，单调递增\n",
    "tanh，近似于sigmoid，趋近于负无穷时函数趋近于-1，趋近于正无穷函数趋近于1，单调递增\n",
    "relu激活，在z小于0时是0，在z大于0时是z\n",
    "3. 反向传播的算法解决什么问题，如何工作的\n",
    "反向传播解决梯队下降问题，正向传播过程通过层层递进无法得到y_pred也就无法得到每一层的梯度，但是可以记录每层梯度计算时的A( $A_{(i)} = wZ_{(i-1)} + b$ ）,与Z（$Z_{i}=sigmoid(A_{(i)})$）,再根据链式法则从输出层反向一层层的计算梯度\n",
    "4. 列出可以在基本MLP（不考虑其他神经网络架构）中进行调整的所有超参数？如果MLP过拟合训练数据，如何调整这些超参数来解决该问题？\n",
    "隐藏层的层高，隐藏层的神经元个数，隐藏层的激活函数，使用什么优化器，优化器的学习率，训练的轮次epochs，每批次传入的样本数batch_size，权重初始化         减少层高，减少隐藏层神经元数量，选择简单的激活函数\n",
    "5. 假设有一个MLP，该MLP由一个输入层和10个直通神经元组成，随后是一个包含50个神经元的隐藏层，最后是3个神经元组成的输出层。所有人工神经元都使用ReLU激活函数。\n",
    "\n",
    "   a. 输入矩阵X的形状是什么\n",
    "    样本数 * 10\n",
    "   b. 隐藏层的权重W_hidden及其偏置b_hidden的形状分别是什么\n",
    "    10*50   50，\n",
    "   c. 输出层的权重W_output及其偏置b_output的形状是什么\n",
    "    50，3       3，\n",
    "   d. 网络输出矩阵Y的形状是什么\n",
    "    样本数 ，3\n",
    "   e. 写出输出矩阵Y的计算公式，满足Y是W_hidden, b_hidden, W_output, b_output的函数\n",
    "    RELU(RELU(X@W_hidden+b_hidden)@W_output + b_output)\n",
    "6. 如果要将电子邮件分类为垃圾邮件或正常邮件，需要在输出层中有多少个神经元？应该在输出层中使用什么激活函数？相反，如果想解决MNIST图片分类问题，则在输出层中需要有多少个神经元，应该使用哪种激活函数？如何使神经网络预测 回归话题里提到的房价？\n",
    "1个，sigmoid激活，10个softmax激活，最后输出层不加激活函数即可"
   ],
   "id": "efbfab39dff1fdac"
  },
  {
   "metadata": {},
   "cell_type": "markdown",
   "source": "### 编程题",
   "id": "3a345ebdc81ebc04"
  },
  {
   "metadata": {},
   "cell_type": "markdown",
   "source": [
    "在MNIST数据集上训练深度MLP（可以使用tf.keras.datasets.mnist.load_data()加载它）。看看是否可以通过手动调整超参数获得98%以上的精度。\n",
    "\n",
    "首先尝试使用课堂上介绍的方法搜索最佳学习率（即通过以指数方式增加学习率，根据学习率变化绘制训练损失，并找到损失激增的点）。\n",
    "\n",
    "接下来，尝试使用Keras Tuner调整超参数——保存检查点，使用早停，并使用TensorBoard绘制学习曲线。"
   ],
   "id": "8ae50ffff27ba189"
  },
  {
   "metadata": {
    "ExecuteTime": {
     "end_time": "2025-09-02T00:45:20.869411Z",
     "start_time": "2025-09-02T00:45:16.997540Z"
    }
   },
   "cell_type": "code",
   "source": [
    "import tensorflow as tf\n",
    "data = tf.keras.datasets.mnist.load_data()\n",
    "# data\n",
    "\n",
    "for i in data:\n",
    "    print(i[0].shape)\n",
    "    print(i[1].shape)"
   ],
   "id": "48a63860ed875131",
   "outputs": [
    {
     "name": "stdout",
     "output_type": "stream",
     "text": [
      "(60000, 28, 28)\n",
      "(60000,)\n",
      "(10000, 28, 28)\n",
      "(10000,)\n"
     ]
    }
   ],
   "execution_count": 1
  },
  {
   "metadata": {
    "ExecuteTime": {
     "end_time": "2025-09-02T00:45:22.214352Z",
     "start_time": "2025-09-02T00:45:21.741296Z"
    }
   },
   "cell_type": "code",
   "source": [
    "from matplotlib import pyplot as plt\n",
    "plt.imshow(data[0][0][0],cmap='gray')\n",
    "plt.axis(\"off\")\n",
    "plt.show()"
   ],
   "id": "dd2feacad9709627",
   "outputs": [
    {
     "data": {
      "text/plain": [
       "<Figure size 640x480 with 1 Axes>"
      ],
      "image/png": "[encoded data removed]"
     },
     "metadata": {},
     "output_type": "display_data"
    }
   ],
   "execution_count": 2
  },
  {
   "metadata": {
    "ExecuteTime": {
     "end_time": "2025-09-02T00:45:22.414539Z",
     "start_time": "2025-09-02T00:45:22.245506Z"
    }
   },
   "cell_type": "code",
   "source": [
    "X_train_all,y_train_all = data[0]\n",
    "X_test, y_test =data[1]\n",
    "X_train_all = X_train_all/255\n",
    "X_test = X_test/255"
   ],
   "id": "f687c349fd3b61c7",
   "outputs": [],
   "execution_count": 3
  },
  {
   "metadata": {
    "ExecuteTime": {
     "end_time": "2025-09-02T00:45:22.427591Z",
     "start_time": "2025-09-02T00:45:22.423787Z"
    }
   },
   "cell_type": "code",
   "source": [
    "X_train,X_valid = X_train_all[:55000,:,:],X_train_all[55000:,:,:]\n",
    "y_train,y_valid = y_train_all[:55000],y_train_all[55000:]"
   ],
   "id": "fe49bc8e013514d2",
   "outputs": [],
   "execution_count": 4
  },
  {
   "metadata": {
    "ExecuteTime": {
     "end_time": "2025-09-02T00:45:22.445955Z",
     "start_time": "2025-09-02T00:45:22.437758Z"
    }
   },
   "cell_type": "code",
   "source": [
    "import numpy as np\n",
    "# import copy\n",
    "class mycallback_for_learningrate(tf.keras.callbacks.Callback):\n",
    "    def __init__(self,n_iter= 500,start_learning_rate=1e-5,end_learning_rate=10,**kwargs):\n",
    "\n",
    "        super().__init__(**kwargs)\n",
    "        self.n_iter = n_iter\n",
    "        self.start_learning_rate = start_learning_rate\n",
    "        self.end_learning_rate = end_learning_rate\n",
    "        self.learning_rate_logs = []\n",
    "        self.losses = []\n",
    "        self.best_val_loss = np.inf\n",
    "        self.best_learning_rate = np.inf\n",
    "\n",
    "        self.upper_rate = (end_learning_rate / start_learning_rate) **(1 / n_iter)\n",
    "\n",
    "    def on_train_begin(self, logs=None):\n",
    "        # 初始化学习率\n",
    "        tf.keras.backend.set_value(self.model.optimizer.learning_rate, self.start_learning_rate)\n",
    "\n",
    "    def on_train_batch_end(self, batch, logs=None):\n",
    "        # 在迭代轮次之内更新\n",
    "        if batch <=  self.n_iter:\n",
    "            currernt_lr = tf.keras.backend.get_value(self.model.optimizer.learning_rate)\n",
    "            self.learning_rate_logs.append(currernt_lr)\n",
    "            currernt_loss = logs[\"loss\"]\n",
    "            if currernt_loss < self.best_val_loss:\n",
    "                self.best_val_loss = currernt_loss\n",
    "                self.best_learning_rate = currernt_lr\n",
    "                # print(self.best_learning_rate)\n",
    "            self.losses.append(currernt_loss)\n",
    "            currernt_lr *= self.upper_rate\n",
    "            tf.keras.backend.set_value(self.model.optimizer.learning_rate, currernt_lr)\n",
    "        # 当超过迭代轮次后停止训练\n",
    "        else:\n",
    "            self.model.stop_training = True\n",
    "\n",
    "    # 停止训练时绘图，横坐标learningrate，纵坐标损失值\n",
    "    def on_train_end(self, logs=None):\n",
    "        self.plot_loss_lr()\n",
    "\n",
    "    def plot_loss_lr(self):\n",
    "        # plt.plot(self.learning_rate_logs,self.losses,\"b-\",label=\"loss\")\n",
    "        # 学习率等比用log可以等间距\n",
    "        plt.plot(np.log(self.learning_rate_logs),self.losses,\"b-\",label=\"loss\")\n",
    "        plt.xlabel(\"learning rate\")\n",
    "        plt.ylabel(\"loss\")\n",
    "        plt.show()\n",
    "\n"
   ],
   "id": "96cddc6f601cf3b6",
   "outputs": [],
   "execution_count": 5
  },
  {
   "metadata": {
    "ExecuteTime": {
     "end_time": "2025-09-02T00:45:22.614637Z",
     "start_time": "2025-09-02T00:45:22.461090Z"
    }
   },
   "cell_type": "code",
   "source": [
    "# 定义简单的神经网络，并启用自己的回调函数\n",
    "model = tf.keras.Sequential([\n",
    "    tf.keras.layers.Flatten(input_shape=(28,28)),\n",
    "    tf.keras.layers.Dense(300,activation=\"relu\"),\n",
    "    tf.keras.layers.Dense(10,activation=\"softmax\")\n",
    "])\n",
    "\n",
    "model.compile(loss=\"sparse_categorical_crossentropy\",optimizer=tf.keras.optimizers.SGD(learning_rate=1e-5),metrics='sparse_categorical_accuracy')\n"
   ],
   "id": "7b32eca9ecb43f97",
   "outputs": [],
   "execution_count": 6
  },
  {
   "metadata": {
    "ExecuteTime": {
     "end_time": "2025-09-02T00:45:24.942219Z",
     "start_time": "2025-09-02T00:45:22.623063Z"
    }
   },
   "cell_type": "code",
   "source": [
    "my_callback = mycallback_for_learningrate()\n",
    "model.fit(X_train,y_train,epochs=1,validation_data=(X_valid,y_valid),callbacks=[my_callback],verbose=0)"
   ],
   "id": "78db35f82a6d248",
   "outputs": [
    {
     "data": {
      "text/plain": [
       "<Figure size 640x480 with 1 Axes>"
      ],
      "image/png": "[encoded data removed]"
     },
     "metadata": {},
     "output_type": "display_data"
    },
    {
     "data": {
      "text/plain": [
       "<keras.src.callbacks.History at 0x25a44e02ad0>"
      ]
     },
     "execution_count": 7,
     "metadata": {},
     "output_type": "execute_result"
    }
   ],
   "execution_count": 7
  },
  {
   "metadata": {
    "ExecuteTime": {
     "end_time": "2025-09-02T00:45:24.990781Z",
     "start_time": "2025-09-02T00:45:24.985903Z"
    }
   },
   "cell_type": "code",
   "source": "my_callback.best_learning_rate",
   "id": "ae908dc3a5fa29ae",
   "outputs": [
    {
     "data": {
      "text/plain": [
       "1.4454405"
      ]
     },
     "execution_count": 8,
     "metadata": {},
     "output_type": "execute_result"
    }
   ],
   "execution_count": 8
  },
  {
   "metadata": {
    "ExecuteTime": {
     "end_time": "2025-09-02T00:45:25.013954Z",
     "start_time": "2025-09-02T00:45:25.008858Z"
    }
   },
   "cell_type": "code",
   "source": "",
   "id": "26cf8ed4bf51957b",
   "outputs": [],
   "execution_count": null
  },
  {
   "metadata": {
    "ExecuteTime": {
     "end_time": "2025-09-02T00:45:25.989371Z",
     "start_time": "2025-09-02T00:45:25.027616Z"
    }
   },
   "cell_type": "code",
   "source": [
    "import keras_tuner as kt\n",
    "class myclassificationhypermodel(kt.HyperModel):\n",
    "    def build(self,hp):\n",
    "        # 参数设置：隐藏层个数、隐藏层神经元个数、激活函数、优化器\n",
    "        # tf.keras.metrics\n",
    "        n_hidden = hp.Int(\"n_hidden\", min_value=1,max_value=8, default=3)\n",
    "        n_neurons = hp.Int(\"n_neurons\", min_value=2**3,max_value=2**8, default=2**5)\n",
    "        activation = hp.Choice(\"activation\", [\"relu\",\"tanh\",\"sigmoid\",\"softplus\"])\n",
    "        optimizer = hp.Choice(\"optimizer\", [\"sgd\",\"adam\"])\n",
    "        learning_rate = hp.Float(\"learning_rate\", min_value=1e-4, max_value=1, sampling=\"log\")\n",
    "        if optimizer == \"sgd\":\n",
    "            optimizer_ = tf.keras.optimizers.SGD(learning_rate=learning_rate)\n",
    "        else:\n",
    "            optimizer_ = tf.keras.optimizers.Adam(learning_rate=learning_rate)\n",
    "\n",
    "\n",
    "        # 构建模型\n",
    "        model = tf.keras.Sequential([])\n",
    "        model.add(tf.keras.layers.Flatten(input_shape=(28,28)))\n",
    "        for _ in range(n_hidden):\n",
    "            model.add(tf.keras.layers.Dense(n_neurons,activation=activation))\n",
    "\n",
    "        model.add(tf.keras.layers.Dense(10,activation=\"softmax\"))\n",
    "\n",
    "        model.compile(loss=\"sparse_categorical_crossentropy\",optimizer=optimizer_,metrics=['accuracy'])\n",
    "        return  model\n",
    "\n",
    "    def fit(self, hp, model,X,y,*args, **kwargs):\n",
    "        batch_size = hp.Choice(\"batch_size\", [2**4,2**5,2**6,2**7,2**8,2**9],default=32)\n",
    "        return model.fit(X, y,batch_size=batch_size, **kwargs)"
   ],
   "id": "76ea49a84c170f50",
   "outputs": [],
   "execution_count": 9
  },
  {
   "metadata": {},
   "cell_type": "code",
   "source": [
    "kt_random_search = kt.RandomSearch(myclassificationhypermodel(), objective=\"val_accuracy\", max_trials=5, overwrite=True, directory=\"./models/mnist_logs\", project_name=\"my_rnd_search\", seed=42)\n",
    "#\n",
    "# early_stop_cb = tf.keras.callbacks.EarlyStopping(monitor=\"val_loss\", patience=5, mode=\"min\", restore_best_weights=True)\n",
    "\n",
    "kt_random_search.search(X_train, y_train, epochs = 10, validation_data=(X_valid, y_valid))"
   ],
   "id": "e256fd82f0b2aa7e",
   "execution_count": 10,
   "outputs": [
    {
     "name": "stdout",
     "output_type": "stream",
     "text": [
      "Trial 5 Complete [00h 00m 05s]\n",
      "val_accuracy: 0.9368000030517578\n",
      "\n",
      "Best val_accuracy So Far: 0.980400025844574\n",
      "Total elapsed time: 00h 01m 14s\n"
     ]
    }
   ]
  },
  {
   "metadata": {
    "ExecuteTime": {
     "end_time": "2025-09-02T00:46:40.210804Z",
     "start_time": "2025-09-02T00:46:40.207345Z"
    }
   },
   "cell_type": "code",
   "source": "# vars(kt_random_search)",
   "id": "b11a88c3f52b8efa",
   "outputs": [],
   "execution_count": 11
  },
  {
   "metadata": {
    "ExecuteTime": {
     "end_time": "2025-09-02T00:46:40.233820Z",
     "start_time": "2025-09-02T00:46:40.218372Z"
    }
   },
   "cell_type": "code",
   "source": "# kt_random_search.get_best_hyperparameters(num_trials=3)[0].values",
   "id": "d510015bb77afe86",
   "outputs": [],
   "execution_count": 12
  },
  {
   "metadata": {
    "ExecuteTime": {
     "end_time": "2025-09-02T00:46:40.481753Z",
     "start_time": "2025-09-02T00:46:40.240796Z"
    }
   },
   "cell_type": "code",
   "source": "best_model = kt_random_search.get_best_models(num_models = 1)[0]",
   "id": "1a60f3c16900a689",
   "outputs": [],
   "execution_count": 13
  },
  {
   "metadata": {
    "ExecuteTime": {
     "end_time": "2025-09-02T00:46:40.493825Z",
     "start_time": "2025-09-02T00:46:40.488941Z"
    }
   },
   "cell_type": "code",
   "source": [
    "best_hp = kt_random_search.get_best_hyperparameters(num_trials=1)[0]\n",
    "# hypermodel = myclassificationhypermodel()\n",
    "# best_model = hypermodel.build(best_hp)"
   ],
   "id": "d44c31f10f4fc23d",
   "outputs": [],
   "execution_count": 14
  },
  {
   "metadata": {
    "ExecuteTime": {
     "end_time": "2025-09-02T00:46:40.511898Z",
     "start_time": "2025-09-02T00:46:40.505935Z"
    }
   },
   "cell_type": "code",
   "source": "best_hp.values",
   "id": "37d6106f99a45bc4",
   "outputs": [
    {
     "data": {
      "text/plain": [
       "{'n_hidden': 5,\n",
       " 'n_neurons': 235,\n",
       " 'activation': 'relu',\n",
       " 'optimizer': 'adam',\n",
       " 'learning_rate': 0.00014800038812985168,\n",
       " 'batch_size': 128}"
      ]
     },
     "execution_count": 15,
     "metadata": {},
     "output_type": "execute_result"
    }
   ],
   "execution_count": 15
  },
  {
   "metadata": {
    "ExecuteTime": {
     "end_time": "2025-09-02T00:49:00.528660Z",
     "start_time": "2025-09-02T00:46:45.842397Z"
    }
   },
   "cell_type": "code",
   "source": [
    "earlystop_cb = tf.keras.callbacks.EarlyStopping(monitor=\"val_loss\", patience=5,restore_best_weights=True)\n",
    "from datetime import datetime\n",
    "\n",
    "current_date = datetime.now()\n",
    "formatted_date = current_date.strftime(\"%Y_%m_%d\")\n",
    "dir_path = \"./models/mnist_logs/tensorboard\"\n",
    "\n",
    "tensorboard = tf.keras.callbacks.TensorBoard(log_dir=dir_path+\"/\"+formatted_date,)\n",
    "\n",
    "best_model.fit(X_train_all,y_train_all,epochs=100,validation_data=(X_valid,y_valid),callbacks=[earlystop_cb,tensorboard])"
   ],
   "id": "dd934c08fa269e76",
   "outputs": [
    {
     "name": "stdout",
     "output_type": "stream",
     "text": [
      "Epoch 1/100\n",
      "1875/1875 [==============================] - 7s 3ms/step - loss: 0.0686 - accuracy: 0.9779 - val_loss: 0.0639 - val_accuracy: 0.9804\n",
      "Epoch 2/100\n",
      "1875/1875 [==============================] - 6s 3ms/step - loss: 0.0449 - accuracy: 0.9857 - val_loss: 0.0372 - val_accuracy: 0.9890\n",
      "Epoch 3/100\n",
      "1875/1875 [==============================] - 6s 3ms/step - loss: 0.0342 - accuracy: 0.9888 - val_loss: 0.0284 - val_accuracy: 0.9910\n",
      "Epoch 4/100\n",
      "1875/1875 [==============================] - 6s 3ms/step - loss: 0.0297 - accuracy: 0.9904 - val_loss: 0.0228 - val_accuracy: 0.9938\n",
      "Epoch 5/100\n",
      "1875/1875 [==============================] - 6s 3ms/step - loss: 0.0233 - accuracy: 0.9921 - val_loss: 0.0198 - val_accuracy: 0.9930\n",
      "Epoch 6/100\n",
      "1875/1875 [==============================] - 6s 3ms/step - loss: 0.0202 - accuracy: 0.9934 - val_loss: 0.0172 - val_accuracy: 0.9946\n",
      "Epoch 7/100\n",
      "1875/1875 [==============================] - 6s 3ms/step - loss: 0.0174 - accuracy: 0.9942 - val_loss: 0.0099 - val_accuracy: 0.9974\n",
      "Epoch 8/100\n",
      "1875/1875 [==============================] - 6s 3ms/step - loss: 0.0156 - accuracy: 0.9949 - val_loss: 0.0087 - val_accuracy: 0.9978\n",
      "Epoch 9/100\n",
      "1875/1875 [==============================] - 6s 3ms/step - loss: 0.0129 - accuracy: 0.9959 - val_loss: 0.0073 - val_accuracy: 0.9980\n",
      "Epoch 10/100\n",
      "1875/1875 [==============================] - 6s 3ms/step - loss: 0.0129 - accuracy: 0.9957 - val_loss: 0.0111 - val_accuracy: 0.9964\n",
      "Epoch 11/100\n",
      "1875/1875 [==============================] - 6s 3ms/step - loss: 0.0111 - accuracy: 0.9962 - val_loss: 0.0340 - val_accuracy: 0.9898\n",
      "Epoch 12/100\n",
      "1875/1875 [==============================] - 6s 3ms/step - loss: 0.0120 - accuracy: 0.9959 - val_loss: 0.0046 - val_accuracy: 0.9986\n",
      "Epoch 13/100\n",
      "1875/1875 [==============================] - 6s 3ms/step - loss: 0.0101 - accuracy: 0.9965 - val_loss: 0.0080 - val_accuracy: 0.9974\n",
      "Epoch 14/100\n",
      "1875/1875 [==============================] - 6s 3ms/step - loss: 0.0081 - accuracy: 0.9974 - val_loss: 0.0120 - val_accuracy: 0.9956\n",
      "Epoch 15/100\n",
      "1875/1875 [==============================] - 6s 3ms/step - loss: 0.0102 - accuracy: 0.9967 - val_loss: 0.0086 - val_accuracy: 0.9980\n",
      "Epoch 16/100\n",
      "1875/1875 [==============================] - 6s 3ms/step - loss: 0.0080 - accuracy: 0.9975 - val_loss: 0.0067 - val_accuracy: 0.9978\n",
      "Epoch 17/100\n",
      "1875/1875 [==============================] - 6s 3ms/step - loss: 0.0069 - accuracy: 0.9977 - val_loss: 0.0024 - val_accuracy: 0.9992\n",
      "Epoch 18/100\n",
      "1875/1875 [==============================] - 6s 3ms/step - loss: 0.0078 - accuracy: 0.9975 - val_loss: 0.0058 - val_accuracy: 0.9980\n",
      "Epoch 19/100\n",
      "1875/1875 [==============================] - 6s 3ms/step - loss: 0.0064 - accuracy: 0.9978 - val_loss: 0.0047 - val_accuracy: 0.9984\n",
      "Epoch 20/100\n",
      "1875/1875 [==============================] - 6s 3ms/step - loss: 0.0080 - accuracy: 0.9975 - val_loss: 0.0031 - val_accuracy: 0.9990\n",
      "Epoch 21/100\n",
      "1875/1875 [==============================] - 6s 3ms/step - loss: 0.0073 - accuracy: 0.9976 - val_loss: 0.0070 - val_accuracy: 0.9970\n",
      "Epoch 22/100\n",
      "1875/1875 [==============================] - 6s 3ms/step - loss: 0.0056 - accuracy: 0.9982 - val_loss: 0.0029 - val_accuracy: 0.9990\n"
     ]
    },
    {
     "data": {
      "text/plain": [
       "<keras.src.callbacks.History at 0x25a487c7790>"
      ]
     },
     "execution_count": 16,
     "metadata": {},
     "output_type": "execute_result"
    }
   ],
   "execution_count": 16
  },
  {
   "metadata": {
    "ExecuteTime": {
     "end_time": "2025-09-02T00:49:11.018257Z",
     "start_time": "2025-09-02T00:49:10.323690Z"
    }
   },
   "cell_type": "code",
   "source": [
    "from sklearn.metrics import accuracy_score\n",
    "accuracy_score(np.argmax(best_model.predict(X_test),axis=1),y_test)"
   ],
   "id": "bd8d87088cf5632f",
   "outputs": [
    {
     "name": "stdout",
     "output_type": "stream",
     "text": [
      "313/313 [==============================] - 1s 1ms/step\n"
     ]
    },
    {
     "data": {
      "text/plain": [
       "0.9822"
      ]
     },
     "execution_count": 17,
     "metadata": {},
     "output_type": "execute_result"
    }
   ],
   "execution_count": 17
  },
  {
   "metadata": {},
   "cell_type": "code",
   "outputs": [],
   "execution_count": null,
   "source": "# tensorboard --logdir=.\\models\\mnist_logs\\tensorboard\\2025_09_02",
   "id": "92b9188ef6055638"
  },
  {
   "metadata": {},
   "cell_type": "markdown",
   "source": "## 第二部分",
   "id": "36820ad9e15ee6a4"
  },
  {
   "metadata": {},
   "cell_type": "markdown",
   "source": [
    "第二部分要求构建一个基本的softmax回归算法，以及一个简单的两层神经网络。将使用原生Python（使用numpy库），不借助keras实现这些算法\n",
    "\n",
    "在此过程中，将提供一些关于如何实现这些不同函数的指导，但总体而言，细节需要自己实现。 应该尽量使用 numpy 中的线性代数调用：for/while循环通常会使代码运行速度比预期慢得多。\n",
    "\n",
    "**请仔细阅读作业说明!!!**"
   ],
   "id": "ef8ee36ab3194bee"
  },
  {
   "metadata": {},
   "cell_type": "markdown",
   "source": [
    "去命令行（cmd/Anaconda Powershell Prompt /其他终端）运行如下指令（激活开发环境一定要最先执行），安装这部分作业依赖的python库：\n",
    "- 激活开发环境：conda activate homl3\n",
    "- 安装numdifftools：conda install numdifftools\n",
    "- 安装pytest：conda install pytest\n"
   ],
   "id": "8f03383cd433925f"
  },
  {
   "metadata": {},
   "cell_type": "markdown",
   "source": "### 第一题：简单的加法函数，以及使用pytest测试代码",
   "id": "4c466d5685d4d03c"
  },
  {
   "metadata": {},
   "cell_type": "markdown",
   "source": [
    "为了说明这部分作业的代码+数据，以及pytest使用，将使用一个实现 add函数 的简单示例。\n",
    "\n",
    "```\n",
    "data/\n",
    "    train-images-idx3-ubyte.gz\n",
    "    train-labels-idx1-ubyte.gz\n",
    "    t10k-images-idx3-ubyte.gz\n",
    "    t10k-labels-idx1-ubyte.gz\n",
    "src/\n",
    "    simple_ml.py\n",
    "tests/\n",
    "    test_simple_ml.py\n",
    "```\n",
    "\n",
    "data/ 目录包含这部分作业所需的数据（MNIST 数据集的副本）；src/ 目录包含实现功能所需的源代码；tests/ 目录包含用于测试实现代码是否正确的代码\n",
    "\n",
    "第一题要求实现 src/目录里 simple_ml.py内的 add函数（这个简单的函数实际上并没有用到，它只是一个帮助熟悉作业结构的示例）。查看 src/simple_ml.py 文件，将找到 add() 函数的定义"
   ],
   "id": "ec65b18ce87572e0"
  },
  {
   "metadata": {},
   "cell_type": "markdown",
   "source": "#### 测试代码",
   "id": "6cd5d2fcdd8098e7"
  },
  {
   "metadata": {},
   "cell_type": "markdown",
   "source": [
    "现在需要测试一下你的代码是否能正确运行，正确运行才说明实现没问题。\n",
    "\n",
    "在这部分作业中，将使用pytest对代码进行单元测试。在 src/simple_ml.py 文件中 写完 add函数的实现后，去命令行里确保已经激活了homl3环境（conda activate homl3）， 确保homl3环境里安装过了numdifftools和pytest，确定命令行里显示的文件路径在 作业8的目录（这个目录同时有data/, src/和tests/文件夹），然后执行以下命令：\n",
    "\n",
    "python -m pytest -k \"add\"\n",
    "\n",
    "如果一切正常，你会看到类似这样的图片：\n",
    "![测试add通过](../images/homework/neural_network/p1.png)\n",
    "\n",
    "想看测试如何进行的，可以去查看tests/test_simple_ml.py文件，python -m pytest -k \"add\"指令刚刚运行的是 文件里的test_add() 函数\n",
    "\n",
    "如果错误地实现了某些内容（例如，将上面的 x + y 更改为 x - y），那么测试将会失败，并且 pytest 将会指示相应的测试失败。\n",
    "\n",
    "比如把x+y，换成x-y后，执行python -m pytest -k \"add\"：\n",
    "![测试add不通过](../images/homework/neural_network/p2.png)"
   ],
   "id": "d50035ed39acb088"
  },
  {
   "metadata": {},
   "cell_type": "markdown",
   "source": [
    "b如图所见，将收到一个错误，指示断言失败，然后就可以使用它来返回并调整实现代码。应该能够熟练地阅读和跟踪测试文件，以便更好地理解正确的实现应该如何工作\n",
    "\n",
    "学习正确开发和使用单元测试对于现代软件开发至关重要，希望这次作业帮助了解单元测试在软件开发中的典型用法。\n",
    "\n",
    "当然，这次作业不一定需要编写自己的测试去确保自己实现正确，但应该熟悉如何阅读提供的测试文件，以便了解要实现的函数应该如何运行。但是，也绝对鼓励为自己的实现编写额外的测试。\n",
    "\n",
    "如果习惯通过打印语句调试代码，请注意，pytest 默认会捕获任何输出（隐藏掉测试代码执行的print）。可以通过将 -s 传递给 pytest 来禁用此行为并让测试在所有情况下显示所有输出。"
   ],
   "id": "2efc3a6f7149b279"
  },
  {
   "metadata": {},
   "cell_type": "markdown",
   "source": "### 第二题：用gzip和struct处理压缩文件和二进制数据，加载MNIST数据",
   "id": "d52dd69c5a4d201b"
  },
  {
   "metadata": {},
   "cell_type": "markdown",
   "source": [
    "现在已经熟悉了测试工具pytest，接下来在 src/simple_ml.py 中需要实现的函数上尝试一下：parse_mnist_data() 函数。\n",
    "\n",
    "这个函数也有文档字符串（docstring），请仔细阅读它们。\n",
    "\n",
    "然后，请访问 http://yann.lecun.com/exdb/mnist/ 了解 MNIST 数据的二进制格式。然后编写函数读取此类文件，并根据文档字符串中的规范返回 numpy 数组）。建议使用 Python 中的 struct 模块（以及 gzip 模块，当然还有 numpy 本身）来实现此函数。\n",
    "\n",
    "当然可以利用AI搜索这个部分的代码实现，但了解了MNIST数据的二进制格式和gzip，struct的简单使用后，能理解AI产出的代码为什么正确\n",
    "\n",
    "实现函数后，去命令行运行本地单元测试， 同样确保命令行激活了homl3环境，确保路径在作业8目录下（有data/,src/和tests/文件）， 后面的题不再强调\n",
    "\n",
    "python -m pytest -k \"parse_mnist\""
   ],
   "id": "68f7d3f1c9a1c4f"
  },
  {
   "metadata": {},
   "cell_type": "markdown",
   "source": "### 第三题：Softmax损失",
   "id": "a1f0f951071f9cb1"
  },
  {
   "metadata": {},
   "cell_type": "markdown",
   "source": [
    "在 `src/simple_ml.py` 文件的 `softmax_loss()` 函数中实现 softmax（也称为交叉熵）损失。对于一个可以取值 $ y \\in \\{1, \\ldots, k\\} $ 的多类输出，softmax 损失接收一个对数几率向量 $ z \\in \\mathbb{R}^k $ 和真实类别 $ y \\in \\{1, \\ldots, k\\} $ 作为输入，并返回由以下公式定义的损失：\n",
    "\n",
    "$\\ell_{\\text{softmax}}(z, y) = \\log (\\sum_{i=1}^{k} \\exp z_i) - z_y$\n",
    "\n",
    "对数几率向量z，可以看成被softmax激活之前的值，对公式有疑惑，或者对z的意义有疑惑的，可以参考softmax回归的笔记，并自己推导一下损失公式是否正确\n",
    "\n",
    "请注意，如其文档字符串（docstring）所述，`softmax_loss()` 函数接收一个二维的对数几率数组（即，一批不同样本的 $ k $ 维对数几率）加上一个对应的一维真实标签数组，并应返回整批样本的平均 softmax 损失。请注意，为了正确实现此功能，你不应使用任何循环，而是完全使用 numpy 的向量化操作进行计算（为此设定预期，实现代码可以少到一行代码）。"
   ],
   "id": "953808de07690b8"
  },
  {
   "metadata": {},
   "cell_type": "markdown",
   "source": "实现完成后，可以去命令行进行单元测试：python -m pytest -k \"softmax_loss\"",
   "id": "21787c42fa9b7477"
  },
  {
   "metadata": {},
   "cell_type": "markdown",
   "source": "### 第四题：softmax回归小批量梯度下降",
   "id": "b7fe01a86a24019c"
  },
  {
   "metadata": {},
   "cell_type": "markdown",
   "source": [
    "在这个问题中，你将实现（线性）softmax 回归的小批量梯度下降）。考虑一个假设函数，该函数通过以下公式将 $ n $ 维输入转换为 $ k $ 维对数几率：\n",
    "\n",
    "$h(x) = \\Theta^T x$\n",
    "\n",
    "其中 $ x \\in \\mathbb{R}^n $ 是输入，$\\Theta \\in \\mathbb{R}^{n \\times k}$ 是模型参数。给定数据集 $\\{(x^{(i)} \\in \\mathbb{R}^n, y^{(i)} \\in \\{1, \\ldots, k\\})\\}$，其中 $ i = 1, \\ldots, m $，softmax 回归相关的优化问题因此由下式给出：\n",
    "\n",
    "$\\text{minimize} \\frac{1}{m} \\sum_{i=1}^{m} \\ell_{\\text{softmax}} (\\Theta^T x^{(i)}, y^{(i)})$\n",
    "\n",
    "线性 softmax 目标的梯度由下式给出，有疑惑的可以结合softmax回归的笔记验证\n",
    "\n",
    "$\\nabla_\\Theta \\ell_{\\text{softmax}} (\\Theta^T x, y) = x(z - e_y)^T$\n",
    "\n",
    "其中\n",
    "\n",
    "$z = \\frac{\\exp(\\Theta^T x)}{1^T \\exp(\\Theta^T x)} = \\text{normalize}(\\exp(\\Theta^T x))$\n",
    "\n",
    "（即 $ z $ 只是归一化的 softmax 概率），并且 $ e_y $ 表示 y 分类的独热编码，即一个所有元素为零，只有第 $ y $ 个位置为 1 的向量。\n",
    "\n",
    "也可以用更紧凑的符号来表示，方便代码实现，即，如果让 $ X \\in \\mathbb{R}^{m \\times n} $ 表示某个 $ m $ 个输入的特征矩阵（整个数据集或一个小批量），$ y \\in \\{1, \\ldots, k\\}^m $ 是对应的标签向量，并且 $ \\ell_{\\text{softmax}} $ 表示平均 softmax 损失，那么\n",
    "\n",
    "$\\nabla_\\Theta \\ell_{\\text{softmax}}(X \\Theta, y) = \\frac{1}{m} X^T (Z - I_y)$\n",
    "\n",
    "其中\n",
    "\n",
    "$Z = \\text{normalize}(\\exp(X \\Theta)) \\quad (\\text{归一化按行应用})$\n",
    "\n",
    "表示对数几率矩阵，而 $ I_y \\in \\mathbb{R}^{m \\times k} $ 表示 $ y $ 中标签的 逐个转成 独热编码，按行连接\n",
    "\n",
    "使用这些梯度，实现 `softmax_regression_epoch()` 函数，该函数使用指定的学习率/步长 $ \\eta $ 和小批量大小 `batch_size` 运行单个轮次（对数据集的一次遍历）。如其文档字符串所述，你的函数应该就地修改 Theta 数组。实现后，请去命令行运行测试。\n",
    "\n",
    "python -m pytest -k \"softmax_regression_epoch\""
   ],
   "id": "22b73c8ad436404b"
  },
  {
   "metadata": {},
   "cell_type": "markdown",
   "source": "#### 用softmax回归训练MNIST",
   "id": "691a02c8be918f7b"
  },
  {
   "metadata": {},
   "cell_type": "markdown",
   "source": [
    "虽然这不包含在测试中，但既然你已经编写了这段代码，你也可以尝试使用 SGD 训练一个完整的 MNIST 线性分类器。为此，你可以使用 src/simple_nn.py 文件中的 train_softmax() 函数（已经编写好了这个函数，所以无需自行编写，但可以查看一下它的功能）。\n",
    "\n",
    "可以使用以下代码了解它的工作原理。作为参考，如下所示，我的实现在 notebook 上运行时间约为 2 秒，测试集错误率为 7.97%。"
   ],
   "id": "c3708dee1e435722"
  },
  {
   "metadata": {
    "ExecuteTime": {
     "end_time": "2025-09-02T00:58:10.283028Z",
     "start_time": "2025-09-02T00:58:10.272766Z"
    }
   },
   "cell_type": "code",
   "source": [
    "import sys\n",
    "sys.path.append(\"src/\")"
   ],
   "id": "1bbe1cf21928288b",
   "outputs": [],
   "execution_count": 19
  },
  {
   "metadata": {
    "ExecuteTime": {
     "end_time": "2025-09-02T00:58:15.033884Z",
     "start_time": "2025-09-02T00:58:11.552735Z"
    }
   },
   "cell_type": "code",
   "source": [
    "from simple_nn import train_softmax, parse_mnist\n",
    "\n",
    "X_tr, y_tr = parse_mnist(\"data/train-images-idx3-ubyte.gz\",\n",
    "                         \"data/train-labels-idx1-ubyte.gz\")\n",
    "X_te, y_te = parse_mnist(\"data/t10k-images-idx3-ubyte.gz\",\n",
    "                         \"data/t10k-labels-idx1-ubyte.gz\")\n",
    "\n",
    "train_softmax(X_tr, y_tr, X_te, y_te, epochs=10, lr=0.2, batch=100)"
   ],
   "id": "72a9aa980f34a079",
   "outputs": [
    {
     "name": "stdout",
     "output_type": "stream",
     "text": [
      "| Epoch | Train Loss | Train Err | Test Loss | Test Err |\n",
      "|     0 |    0.35134 |   0.10182 |   0.33588 |  0.09400 |\n",
      "|     1 |    0.32142 |   0.09268 |   0.31086 |  0.08730 |\n",
      "|     2 |    0.30802 |   0.08795 |   0.30097 |  0.08550 |\n",
      "|     3 |    0.29987 |   0.08532 |   0.29558 |  0.08370 |\n",
      "|     4 |    0.29415 |   0.08323 |   0.29215 |  0.08230 |\n",
      "|     5 |    0.28981 |   0.08182 |   0.28973 |  0.08090 |\n",
      "|     6 |    0.28633 |   0.08085 |   0.28793 |  0.08080 |\n",
      "|     7 |    0.28345 |   0.07997 |   0.28651 |  0.08040 |\n",
      "|     8 |    0.28100 |   0.07923 |   0.28537 |  0.08010 |\n",
      "|     9 |    0.27887 |   0.07847 |   0.28442 |  0.07970 |\n"
     ]
    }
   ],
   "execution_count": 20
  },
  {
   "metadata": {},
   "cell_type": "markdown",
   "source": "### 在1个隐藏层的神经网络上进行小批量梯度下降",
   "id": "3d5e02bfcc97769d"
  },
  {
   "metadata": {},
   "cell_type": "markdown",
   "source": [
    "现在已经为线性分类器编写了SGD，现在考虑一个简单的两层神经网络的情况。具体来说，对于输入 $ x \\in \\mathbb{R}^n $，考虑一个形式如下的两层神经网络（无偏置项）：\n",
    "\n",
    "$ z = W_2^T ReLU(W_1^T x) $\n",
    "\n",
    "其中 $ W_1 \\in \\mathbb{R}^{n \\times d} $ 和 $ W_2 \\in \\mathbb{R}^{d \\times k} $ 表示网络的权重（具有 $ d $ 维隐藏单元），而 $ z \\in \\mathbb{R}^k $ 表示网络输出的对数几率。我们再次使用 softmax/交叉熵损失，这意味着我们要解决以下优化问题：\n",
    "\n",
    "$\\text{minimize } \\frac{1}{W_1, W_2} \\sum_{i=1}^m \\ell_{\\text{softmax}}(W_2^T ReLU(W_1^T x^{(i)}), y^{(i)})$\n",
    "\n",
    "或者，使用矩阵 $ X \\in \\mathbb{R}^{m \\times n} $ 来描述批量形式，这也可以写成：\n",
    "\n",
    "$\\text{minimize } \\ell_{\\text{softmax}}(ReLU(XW_1)W_2, y)$\n",
    "\n",
    "使用链式法则，可以推导出该网络的反向传播更新（为了便于实现，这里提供最终形式）。具体来说，令：\n",
    "\n",
    "$Z_1 \\in \\mathbb{R}^{m \\times d} = ReLU(XW_1)$\n",
    "\n",
    "$G_2 \\in \\mathbb{R}^{m \\times k} = \\text{normalize}(\\exp(Z_1 W_2)) - I_y$\n",
    "\n",
    "$G_1 \\in \\mathbb{R}^{m \\times d} = 1\\{Z_1 > 0\\} \\circ (G_2 W_2^T)$\n",
    "\n",
    "其中 $ 1\\{Z_1 > 0\\} $ 是一个二进制矩阵，其条目根据 $ Z_1 $ 中的每个项是否严格为正而等于零或一，而 $\\circ$ 表示逐元素乘法。那么目标的梯度由下式给出：\n",
    "\n",
    "$\\nabla_{W_1} \\ell_{\\text{softmax}}(ReLU(XW_1)W_2, y) = \\frac{1}{m} X^T G_1$\n",
    "\n",
    "$\\nabla_{W_2} \\ell_{\\text{softmax}}(ReLU(XW_1)W_2, y) = \\frac{1}{m} Z_1^T G_2$\n",
    "\n",
    "**注意：** 如果这些精确方程的细节对你来说有点神秘，不必太担心。这些只是两层ReLU网络的标准反向传播方程：$ Z_1 $ 项只是计算\"前向\"传播，而 $ G_2 $ 和 $ G_1 $ 项表示反向传播。但是更新的精确形式可能会因你使用的神经网络符号、制定损失函数的具体方式、是否之前以矩阵形式推导过这些等因素而有所不同。（毕竟，在某种程度上，深度学习系统（比如tensorflow）的整个重点是我们不需要费心进行这些手动计算）。\n"
   ],
   "id": "a95acd16726bcea5"
  },
  {
   "metadata": {},
   "cell_type": "markdown",
   "source": [
    "使用这些梯度，现在在 src/simple_nn.py 文件中编写 nn_epoch() 函数。与上一个问题一样，你的解决方案应该修改 W1 和 W2 数组。实现该函数后，运行以下测试。请务必使用上述表达式所示的矩阵运算来实现该函数：这比尝试使用循环更快、更高效（并且所需的代码也更少）。\n",
    "\n",
    "实现完成后，去命令运行单元测试：python -m pytest -k \"nn_epoch\""
   ],
   "id": "f0f777d8430f7718"
  },
  {
   "metadata": {},
   "cell_type": "markdown",
   "source": "#### 训练神经网络",
   "id": "6aa812d9bf8c5dd1"
  },
  {
   "metadata": {
    "ExecuteTime": {
     "end_time": "2025-09-02T01:08:42.261118Z",
     "start_time": "2025-09-02T01:07:38.861623Z"
    }
   },
   "cell_type": "code",
   "source": [
    "import sys\n",
    "sys.path.append(\"src/\")\n",
    "import importlib\n",
    "import simple_nn\n",
    "importlib.reload(simple_nn) # 重新载入simple_nn， 防止刚才的训练代码产生了缓存，影响了simple_nn\n",
    "\n",
    "\n",
    "from simple_nn import train_nn, parse_mnist\n",
    "\n",
    "X_tr, y_tr = parse_mnist(\"data/train-images-idx3-ubyte.gz\",\n",
    "                         \"data/train-labels-idx1-ubyte.gz\")\n",
    "X_te, y_te = parse_mnist(\"data/t10k-images-idx3-ubyte.gz\",\n",
    "                         \"data/t10k-labels-idx1-ubyte.gz\")\n",
    "train_nn(X_tr, y_tr, X_te, y_te, hidden_dim=400, epochs=20, lr=0.2)"
   ],
   "id": "d4b9f0be3383aff1",
   "outputs": [
    {
     "name": "stdout",
     "output_type": "stream",
     "text": [
      "| Epoch | Train Loss | Train Err | Test Loss | Test Err |\n",
      "|     0 |    0.15324 |   0.04697 |   0.16305 |  0.04920 |\n",
      "|     1 |    0.09940 |   0.02985 |   0.11694 |  0.03710 |\n",
      "|     2 |    0.07419 |   0.02143 |   0.09750 |  0.03220 |\n",
      "|     3 |    0.05944 |   0.01717 |   0.08751 |  0.02890 |\n",
      "|     4 |    0.04811 |   0.01338 |   0.08089 |  0.02530 |\n",
      "|     5 |    0.03994 |   0.01068 |   0.07613 |  0.02420 |\n",
      "|     6 |    0.03447 |   0.00880 |   0.07343 |  0.02310 |\n",
      "|     7 |    0.03025 |   0.00772 |   0.07200 |  0.02260 |\n",
      "|     8 |    0.02671 |   0.00640 |   0.07074 |  0.02200 |\n",
      "|     9 |    0.02358 |   0.00555 |   0.06970 |  0.02120 |\n",
      "|    10 |    0.02120 |   0.00482 |   0.06870 |  0.02100 |\n",
      "|    11 |    0.01906 |   0.00405 |   0.06813 |  0.02050 |\n",
      "|    12 |    0.01723 |   0.00332 |   0.06748 |  0.02070 |\n",
      "|    13 |    0.01557 |   0.00288 |   0.06680 |  0.02070 |\n",
      "|    14 |    0.01419 |   0.00242 |   0.06638 |  0.02070 |\n",
      "|    15 |    0.01301 |   0.00208 |   0.06597 |  0.02070 |\n",
      "|    16 |    0.01185 |   0.00183 |   0.06567 |  0.02080 |\n",
      "|    17 |    0.01086 |   0.00158 |   0.06508 |  0.02000 |\n",
      "|    18 |    0.01003 |   0.00132 |   0.06501 |  0.01960 |\n",
      "|    19 |    0.00915 |   0.00102 |   0.06448 |  0.01950 |\n"
     ]
    }
   ],
   "execution_count": 21
  },
  {
   "metadata": {},
   "cell_type": "markdown",
   "source": "作为参考，我的实现花了30多秒训练，最终在mnist的测试集达到了1.93%的错误率，只用了大概20多行代码",
   "id": "3f405f7bab4ae611"
  },
  {
   "metadata": {},
   "cell_type": "code",
   "outputs": [],
   "execution_count": null,
   "source": "",
   "id": "635e0efef5731506"
  }
 ],
 "metadata": {
  "kernelspec": {
   "display_name": "Python 3",
   "language": "python",
   "name": "python3"
  },
  "language_info": {
   "codemirror_mode": {
    "name": "ipython",
    "version": 2
   },
   "file_extension": ".py",
   "mimetype": "text/x-python",
   "name": "python",
   "nbconvert_exporter": "python",
   "pygments_lexer": "ipython2",
   "version": "2.7.6"
  }
 },
 "nbformat": 4,
 "nbformat_minor": 5
}
