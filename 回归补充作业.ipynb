{
 "cells": [
  {
   "metadata": {},
   "cell_type": "markdown",
   "source": "",
   "id": "6af774aa03256f6f"
  },
  {
   "metadata": {},
   "cell_type": "markdown",
   "source": "编程题：",
   "id": "10695eaf8992f30e"
  },
  {
   "cell_type": "code",
   "id": "initial_id",
   "metadata": {
    "collapsed": true,
    "ExecuteTime": {
     "end_time": "2025-08-08T00:52:39.493615Z",
     "start_time": "2025-08-08T00:52:39.470925Z"
    }
   },
   "source": [
    "# todo 编程题: 在不使用sklearn的情况下，仅使用Numpy，为softmax回归实现带早停的批量梯度下降，将它用于分类任务，例如鸢尾花数据集\n",
    "\n",
    "#  注意：\n",
    "#  1. 要实现l2正则化\n",
    "#  2. 除了数据读取，其他仅使用numpy，包括训练集+验证集分离，以及softmax预测 和 损失计算"
   ],
   "outputs": [],
   "execution_count": 10
  },
  {
   "metadata": {
    "ExecuteTime": {
     "end_time": "2025-08-08T00:52:39.530480Z",
     "start_time": "2025-08-08T00:52:39.514746Z"
    }
   },
   "cell_type": "code",
   "source": [
    "import numpy as np\n",
    "from sklearn.datasets import load_iris\n",
    "from tensorflow.python.ops.math_ops import linspace\n",
    "\n",
    "iris = load_iris(as_frame=True)"
   ],
   "id": "e570eec2e1cc8291",
   "outputs": [],
   "execution_count": 11
  },
  {
   "metadata": {
    "ExecuteTime": {
     "end_time": "2025-08-08T00:52:39.569751Z",
     "start_time": "2025-08-08T00:52:39.552318Z"
    }
   },
   "cell_type": "code",
   "source": "list(iris)",
   "id": "4c4fa0d5b066c393",
   "outputs": [
    {
     "data": {
      "text/plain": [
       "['data',\n",
       " 'target',\n",
       " 'frame',\n",
       " 'target_names',\n",
       " 'DESCR',\n",
       " 'feature_names',\n",
       " 'filename',\n",
       " 'data_module']"
      ]
     },
     "execution_count": 12,
     "metadata": {},
     "output_type": "execute_result"
    }
   ],
   "execution_count": 12
  },
  {
   "metadata": {
    "ExecuteTime": {
     "end_time": "2025-08-08T00:52:39.689769Z",
     "start_time": "2025-08-08T00:52:39.676086Z"
    }
   },
   "cell_type": "code",
   "source": [
    "data = iris.data[['petal length (cm)' , 'petal width (cm)']].to_numpy()\n",
    "data\n",
    "data_label = iris.target.to_numpy().ravel()\n",
    "data_label"
   ],
   "id": "8ea89b6eabc68efd",
   "outputs": [
    {
     "data": {
      "text/plain": [
       "array([0, 0, 0, 0, 0, 0, 0, 0, 0, 0, 0, 0, 0, 0, 0, 0, 0, 0, 0, 0, 0, 0,\n",
       "       0, 0, 0, 0, 0, 0, 0, 0, 0, 0, 0, 0, 0, 0, 0, 0, 0, 0, 0, 0, 0, 0,\n",
       "       0, 0, 0, 0, 0, 0, 1, 1, 1, 1, 1, 1, 1, 1, 1, 1, 1, 1, 1, 1, 1, 1,\n",
       "       1, 1, 1, 1, 1, 1, 1, 1, 1, 1, 1, 1, 1, 1, 1, 1, 1, 1, 1, 1, 1, 1,\n",
       "       1, 1, 1, 1, 1, 1, 1, 1, 1, 1, 1, 1, 2, 2, 2, 2, 2, 2, 2, 2, 2, 2,\n",
       "       2, 2, 2, 2, 2, 2, 2, 2, 2, 2, 2, 2, 2, 2, 2, 2, 2, 2, 2, 2, 2, 2,\n",
       "       2, 2, 2, 2, 2, 2, 2, 2, 2, 2, 2, 2, 2, 2, 2, 2, 2, 2])"
      ]
     },
     "execution_count": 13,
     "metadata": {},
     "output_type": "execute_result"
    }
   ],
   "execution_count": 13
  },
  {
   "metadata": {
    "ExecuteTime": {
     "end_time": "2025-08-08T01:07:41.060400Z",
     "start_time": "2025-08-08T01:07:41.006559Z"
    }
   },
   "cell_type": "code",
   "source": [
    "import numpy as np\n",
    "from copy import deepcopy\n",
    "class SoftMaxClone():\n",
    "    def __init__(self):\n",
    "        self.w = None\n",
    "        self.b = None\n",
    "\n",
    "    def fit(self,X,y=None,*,lamda = .01 ,n_iter=10000,eta0 = .01 ,early_stopping = False , max_round =100 , random_state = None ,tol = 1.0e-5 ):\n",
    "        self.eta0 = eta0\n",
    "        self.n_iter_ = n_iter\n",
    "        self.lamda = lamda\n",
    "        self.n_iter = 0\n",
    "        self.n_features = X.shape[1]\n",
    "        self.early_stopping = early_stopping\n",
    "        self.max_round = max_round\n",
    "        self.best_score = np.inf\n",
    "        self.best_w_b = None\n",
    "        self.tol = tol\n",
    "        # 函数要自己确认在测试集的分数，可以在函数内部将其分开训练开发集，训练集进行训练开发集进行过拟合验证\n",
    "        if random_state is not None:\n",
    "            np.random.seed(random_state)\n",
    "        shuffle = np.random.permutation(X.shape[0],)\n",
    "        train_idx = shuffle[:int(X.shape[0]*0.8//1)]\n",
    "        test_idx = shuffle[int(X.shape[0]*0.8//1):]\n",
    "        self.__X_train = X[train_idx,:]\n",
    "        self.__X_test = X[test_idx,:]\n",
    "        self.__y_train = y[train_idx]\n",
    "        self.__y_test = y[test_idx]\n",
    "        # 在类内实现的参数均被记录为类内属性，不需要再传入参数\n",
    "        self.gradient_descent(self.__X_train,self.__y_train,) # n_iter=n_iter,eta0=self.eta0,early_stopping=self.early_stopping, max_round=self.max_round)\n",
    "        return self\n",
    "\n",
    "    def gradient_descent(self,X,y,): # *,n_iter=10000,eta0 = .01 ,early_stopping = False ,max_round = 10):\n",
    "\n",
    "        # m = X.shape[0]\n",
    "        n = X.shape[1]\n",
    "        a = np.unique(y,)\n",
    "        self.w = np.ones((n,len(a),))\n",
    "        self.b = np.ones((len(a),))\n",
    "        y_proba_ = y.reshape(-1,1).repeat(len(a),axis=1)\n",
    "        y_proba = np.zeros_like(y_proba_)\n",
    "        for k,v in enumerate(a):\n",
    "            y_proba[y==v,k] =1\n",
    "\n",
    "        self.history_loss = []\n",
    "        k=0\n",
    "        # 进行梯度下降\n",
    "        for i in range(self.n_iter_):\n",
    "            w_grad,b_grad = self.gradient_calculate(X,y_proba)\n",
    "            loss = self.loss_function(X,y_proba,)\n",
    "        # 实现梯度下降并更新权重与偏差\n",
    "            self.w -=self.eta0 * w_grad\n",
    "            self.w += 2*self.lamda * self.w/X.shape[0]\n",
    "            self.b -=self.eta0 * b_grad\n",
    "            self.b += 2*self.lamda * self.b/X.shape[0]\n",
    "\n",
    "            self.history_loss.append(loss)\n",
    "\n",
    "            self.n_iter +=1\n",
    "            self.score =[]\n",
    "            if self.early_stopping:\n",
    "                # self.predict(self.__X_test)\n",
    "                # score =\n",
    "                # 早停标准：如果当前损失函数的与之前的损失函数的差值连续小于容忍度tol  max_round次那么就停止迭代并将版本回退到之前\n",
    "                score = self.loss_function(X,y_proba)\n",
    "                self.score.append(score)\n",
    "                if self.best_score - score > self.tol :\n",
    "                    self.best_score = score\n",
    "                    self.best_w_b = deepcopy((self.w,self.b))\n",
    "                    k = 0\n",
    "                else:\n",
    "                    if k < self.max_round:\n",
    "                        k += 1\n",
    "                    else:\n",
    "                        self.w,self.b = self.best_w_b\n",
    "                        self.n_iter -=self.max_round\n",
    "                        break\n",
    "\n",
    "    def loss_function(self,X,y ):   # ,lamda = .01):      #\n",
    "        y_ = X @ self.w +  self.b           # X （m*2)  @ w (2*3)  b(3,)   -> y_ (m,3)\n",
    "        exp_ = np.exp(y_ - np.max(y_,axis=1,keepdims=True))\n",
    "        p_k_sum = np.sum(exp_,axis=1).reshape(-1,1)\n",
    "        p_k = exp_/ p_k_sum          # p_k (m*3)\n",
    "        l2 = self.lamda * np.sum(self.w**2) + self.lamda * np.sum(self.b**2)\n",
    "        return (-np.sum(y*np.log(p_k+1.0e-10))    + l2)/X.shape[0]\n",
    "\n",
    "    def gradient_calculate(self, X,y ):\n",
    "        y_ = X@self.w +  self.b           # X （m*2)  @ w (2*3)  b(3,)   -> y_ (m,3)\n",
    "        exp_ = np.exp(y_- np.max(y_,axis=1,keepdims=True))\n",
    "        p_k_sum = np.sum(exp_,axis=1).reshape(-1,1)\n",
    "        p_k = exp_/ p_k_sum          # p_k (m*3)\n",
    "\n",
    "        pk_y = p_k - y\n",
    "        pk_y_ = pk_y.repeat(self.w.shape[0],axis =1)\n",
    "        X_ = np.tile(X,(1,self.w.shape[1]))\n",
    "\n",
    "        grad = X_ * pk_y_\n",
    "        w_grad = np.sum(grad , axis =0) / X.shape[0]\n",
    "        return  w_grad.reshape(self.w.shape , order=\"F\") ,np.sum(pk_y , axis = 0) / X.shape[0]\n",
    "\n",
    "    def predict(self,X,y=None):\n",
    "        res = self.predict_proba(X,y)\n",
    "        return np.argmax(res,axis=1)\n",
    "\n",
    "    def predict_proba(self,X,y=None):\n",
    "        y_ = X @ self.w +  self.b           # X （m*2)  @ w (2*3)  b(3,)   -> y_ (m,3)\n",
    "        exp_ = np.exp(y_ - np.max(y_,axis=1,keepdims=True))\n",
    "        p_k_sum = np.sum(exp_,axis=1).reshape(-1,1)\n",
    "        p_k = exp_/ p_k_sum          # p_k (m*3)\n",
    "        return p_k\n",
    "\n",
    "from sklearn.datasets import load_iris\n",
    "\n",
    "iris = load_iris(as_frame=True)\n",
    "data = iris.data[['petal length (cm)' , 'petal width (cm)']].to_numpy()\n",
    "\n",
    "data_label = iris.target.to_numpy().ravel()"
   ],
   "id": "9d512322541d3352",
   "outputs": [],
   "execution_count": 30
  },
  {
   "metadata": {
    "ExecuteTime": {
     "end_time": "2025-08-08T01:09:42.838225Z",
     "start_time": "2025-08-08T01:09:42.298069Z"
    }
   },
   "cell_type": "code",
   "source": [
    "data_label = iris.target.to_numpy().ravel()\n",
    "smx = SoftMaxClone()\n",
    "np.random.seed(42)\n",
    "shuffle = np.random.permutation(data.shape[0],)\n",
    "train_idx = shuffle[:int(data.shape[0]*0.8//1)]\n",
    "test_idx = shuffle[int(data.shape[0]*0.8//1):]\n",
    "X_train = data[train_idx,:]\n",
    "y_train =  data_label[train_idx]\n",
    "X_test = data[test_idx,:]\n",
    "y_test = data_label[test_idx]\n",
    "smx.fit(X_train,y_train,lamda=.01,n_iter=10000,early_stopping =True,eta0 = .1,random_state = 42 ,max_round=1000,tol = 1.0e-9 )\n",
    "print(smx.predict(X_train))\n",
    "print(np.sum(y_train==smx.predict(X_train))/ len(y_train))\n",
    "print(np.sum(smx.predict(X_test) == y_test) / len(y_test))\n",
    "# print(smx.best_w_b)\n",
    "print(smx.n_iter)\n",
    "print(smx.score)\n",
    "# print(smx.w)\n",
    "# print(smx.b)"
   ],
   "id": "10e73f2975ce47f6",
   "outputs": [
    {
     "name": "stdout",
     "output_type": "stream",
     "text": [
      "[1 0 2 1 1 0 1 2 1 1 2 0 0 0 0 1 2 1 1 2 0 2 0 2 2 2 2 2 0 0 0 0 1 0 0 2 1\n",
      " 0 0 0 2 1 1 0 0 1 1 2 1 2 1 2 1 0 2 1 0 0 0 1 2 0 0 0 1 0 1 2 0 1 2 0 2 2\n",
      " 1 1 2 1 0 1 2 0 0 1 2 0 2 0 0 2 1 2 1 1 2 1 0 0 1 2 0 0 0 1 2 0 2 2 0 1 1\n",
      " 2 1 2 0 2 1 2 1 1]\n",
      "0.9583333333333334\n",
      "0.9666666666666667\n",
      "4200\n",
      "[0.18282285974642734]\n"
     ]
    }
   ],
   "execution_count": 37
  },
  {
   "metadata": {
    "ExecuteTime": {
     "end_time": "2025-08-08T01:09:44.500691Z",
     "start_time": "2025-08-08T01:09:44.488470Z"
    }
   },
   "cell_type": "code",
   "source": "X_train",
   "id": "8dc9bab00cad3342",
   "outputs": [
    {
     "data": {
      "text/plain": [
       "array([[4.7, 1.2],\n",
       "       [1.7, 0.3],\n",
       "       [6.9, 2.3],\n",
       "       [4.5, 1.5],\n",
       "       [4.8, 1.4],\n",
       "       [1.5, 0.4],\n",
       "       [3.6, 1.3],\n",
       "       [5.1, 2.3],\n",
       "       [4.5, 1.5],\n",
       "       [3.9, 1.2],\n",
       "       [5.1, 2. ],\n",
       "       [1.4, 0.1],\n",
       "       [1.3, 0.2],\n",
       "       [1.5, 0.1],\n",
       "       [1.5, 0.3],\n",
       "       [4.7, 1.6],\n",
       "       [5.8, 2.2],\n",
       "       [3.9, 1.1],\n",
       "       [4.5, 1.3],\n",
       "       [5.6, 2.2],\n",
       "       [1.6, 0.2],\n",
       "       [4.9, 1.8],\n",
       "       [1.6, 0.4],\n",
       "       [5.6, 2.1],\n",
       "       [6.4, 2. ],\n",
       "       [5.2, 2.3],\n",
       "       [5.8, 1.8],\n",
       "       [5.9, 2.3],\n",
       "       [1.4, 0.3],\n",
       "       [1.6, 0.2],\n",
       "       [1. , 0.2],\n",
       "       [1.5, 0.4],\n",
       "       [4.4, 1.4],\n",
       "       [1.6, 0.2],\n",
       "       [1.3, 0.2],\n",
       "       [5. , 1.9],\n",
       "       [4.5, 1.5],\n",
       "       [1.5, 0.2],\n",
       "       [1.4, 0.2],\n",
       "       [1.5, 0.1],\n",
       "       [5.1, 1.9],\n",
       "       [4.5, 1.6],\n",
       "       [4.7, 1.5],\n",
       "       [1.3, 0.4],\n",
       "       [1.5, 0.2],\n",
       "       [3.7, 1. ],\n",
       "       [5.1, 1.5],\n",
       "       [5.5, 1.8],\n",
       "       [4.4, 1.4],\n",
       "       [6.1, 2.5],\n",
       "       [4.2, 1.3],\n",
       "       [6.6, 2.1],\n",
       "       [4.5, 1.5],\n",
       "       [1.4, 0.2],\n",
       "       [6.7, 2. ],\n",
       "       [4.1, 1. ],\n",
       "       [1.4, 0.2],\n",
       "       [1.3, 0.3],\n",
       "       [1.9, 0.4],\n",
       "       [3.5, 1. ],\n",
       "       [4.9, 1.8],\n",
       "       [1.9, 0.2],\n",
       "       [1.6, 0.2],\n",
       "       [1.7, 0.5],\n",
       "       [4.2, 1.3],\n",
       "       [1.5, 0.2],\n",
       "       [4.2, 1.2],\n",
       "       [6.7, 2.2],\n",
       "       [1.4, 0.2],\n",
       "       [4.3, 1.3],\n",
       "       [5. , 2. ],\n",
       "       [1.4, 0.2],\n",
       "       [4.8, 1.8],\n",
       "       [5.1, 1.9],\n",
       "       [4. , 1. ],\n",
       "       [4.5, 1.5],\n",
       "       [5.4, 2.3],\n",
       "       [4. , 1.3],\n",
       "       [1.7, 0.4],\n",
       "       [3.3, 1. ],\n",
       "       [5.3, 1.9],\n",
       "       [1.4, 0.2],\n",
       "       [1.2, 0.2],\n",
       "       [3.8, 1.1],\n",
       "       [5. , 1.7],\n",
       "       [1.5, 0.2],\n",
       "       [5.1, 2.4],\n",
       "       [1.5, 0.2],\n",
       "       [1.6, 0.6],\n",
       "       [4.8, 1.8],\n",
       "       [3. , 1.1],\n",
       "       [5.7, 2.3],\n",
       "       [5.1, 1.6],\n",
       "       [5.6, 1.4],\n",
       "       [6.1, 2.3],\n",
       "       [4. , 1.3],\n",
       "       [1.4, 0.2],\n",
       "       [1.1, 0.1],\n",
       "       [5. , 1.5],\n",
       "       [6. , 1.8],\n",
       "       [1.5, 0.2],\n",
       "       [1.4, 0.3],\n",
       "       [1.3, 0.2],\n",
       "       [4.9, 1.5],\n",
       "       [5.6, 2.4],\n",
       "       [1.4, 0.3],\n",
       "       [5.5, 2.1],\n",
       "       [6. , 2.5],\n",
       "       [1.3, 0.2],\n",
       "       [4.7, 1.4],\n",
       "       [4.6, 1.5],\n",
       "       [4.8, 1.8],\n",
       "       [4.7, 1.4],\n",
       "       [5.3, 2.3],\n",
       "       [1.6, 0.2],\n",
       "       [5.4, 2.1],\n",
       "       [4.2, 1.5],\n",
       "       [5.2, 2. ],\n",
       "       [3.5, 1. ],\n",
       "       [3.9, 1.4]])"
      ]
     },
     "execution_count": 38,
     "metadata": {},
     "output_type": "execute_result"
    }
   ],
   "execution_count": 38
  },
  {
   "metadata": {
    "ExecuteTime": {
     "end_time": "2025-08-08T01:09:45.168725Z",
     "start_time": "2025-08-08T01:09:45.152826Z"
    }
   },
   "cell_type": "code",
   "source": "X_test",
   "id": "9e620a825342edf9",
   "outputs": [
    {
     "data": {
      "text/plain": [
       "array([[4.6, 1.4],\n",
       "       [1.3, 0.3],\n",
       "       [4.6, 1.3],\n",
       "       [4.4, 1.2],\n",
       "       [1.5, 0.2],\n",
       "       [4.1, 1.3],\n",
       "       [6.3, 1.8],\n",
       "       [5.7, 2.1],\n",
       "       [1.5, 0.4],\n",
       "       [3.3, 1. ],\n",
       "       [5.7, 2.5],\n",
       "       [5.8, 1.6],\n",
       "       [1.4, 0.1],\n",
       "       [5.6, 2.4],\n",
       "       [1.4, 0.2],\n",
       "       [4.9, 1.5],\n",
       "       [6.1, 1.9],\n",
       "       [5.6, 1.8],\n",
       "       [4.1, 1.3],\n",
       "       [5.5, 1.8],\n",
       "       [4.4, 1.3],\n",
       "       [4.3, 1.3],\n",
       "       [4.9, 2. ],\n",
       "       [5.1, 1.8],\n",
       "       [1.7, 0.2],\n",
       "       [4. , 1.3],\n",
       "       [4.5, 1.7],\n",
       "       [1.2, 0.2],\n",
       "       [4. , 1.2],\n",
       "       [5.9, 2.1]])"
      ]
     },
     "execution_count": 39,
     "metadata": {},
     "output_type": "execute_result"
    }
   ],
   "execution_count": 39
  },
  {
   "metadata": {
    "ExecuteTime": {
     "end_time": "2025-08-08T01:09:45.564391Z",
     "start_time": "2025-08-08T01:09:45.548546Z"
    }
   },
   "cell_type": "code",
   "source": "y_train",
   "id": "bc15608cbf123b9d",
   "outputs": [
    {
     "data": {
      "text/plain": [
       "array([1, 0, 2, 1, 1, 0, 1, 2, 1, 1, 2, 0, 0, 0, 0, 1, 2, 1, 1, 2, 0, 2,\n",
       "       0, 2, 2, 2, 2, 2, 0, 0, 0, 0, 1, 0, 0, 2, 1, 0, 0, 0, 2, 1, 1, 0,\n",
       "       0, 1, 2, 2, 1, 2, 1, 2, 1, 0, 2, 1, 0, 0, 0, 1, 2, 0, 0, 0, 1, 0,\n",
       "       1, 2, 0, 1, 2, 0, 2, 2, 1, 1, 2, 1, 0, 1, 2, 0, 0, 1, 1, 0, 2, 0,\n",
       "       0, 1, 1, 2, 1, 2, 2, 1, 0, 0, 2, 2, 0, 0, 0, 1, 2, 0, 2, 2, 0, 1,\n",
       "       1, 2, 1, 2, 0, 2, 1, 2, 1, 1])"
      ]
     },
     "execution_count": 40,
     "metadata": {},
     "output_type": "execute_result"
    }
   ],
   "execution_count": 40
  },
  {
   "metadata": {
    "ExecuteTime": {
     "end_time": "2025-08-08T01:09:46.131854Z",
     "start_time": "2025-08-08T01:09:46.101394Z"
    }
   },
   "cell_type": "code",
   "source": "y_test",
   "id": "d0d52d9c59bec6b",
   "outputs": [
    {
     "data": {
      "text/plain": [
       "array([1, 0, 1, 1, 0, 1, 2, 2, 0, 1, 2, 2, 0, 2, 0, 1, 2, 2, 1, 2, 1, 1,\n",
       "       2, 2, 0, 1, 2, 0, 1, 2])"
      ]
     },
     "execution_count": 41,
     "metadata": {},
     "output_type": "execute_result"
    }
   ],
   "execution_count": 41
  },
  {
   "metadata": {
    "ExecuteTime": {
     "end_time": "2025-08-08T01:10:34.431270Z",
     "start_time": "2025-08-08T01:10:34.308775Z"
    }
   },
   "cell_type": "code",
   "source": [
    "from matplotlib import pyplot as plt\n",
    "from matplotlib.colors import ListedColormap\n",
    "\n",
    "plt.plot(data[data_label==0][:,0],data[data_label==0][:,1] , 'b^' , label = '0')\n",
    "plt.plot(data[data_label==1][:,0],data[data_label==1][:,1] , 'rs' , label = '1')\n",
    "plt.plot(data[data_label==2][:,0],data[data_label==2][:,1] , 'go' , label = '2')\n",
    "# w0 , w1 ,w2 = smx.best_w_b[0][:,0]  ,smx.best_w_b[0][:,1],smx.best_w_b[0][:,2]\n",
    "# b0,b1,b2 = smx.best_w_b[1][0]  ,smx.best_w_b[1][1],smx.best_w_b[1][2]\n",
    "x= np.linspace(1,7,100)\n",
    "# w0 , w1 ,w2 = smx.w[:,0], smx.w[:,1], smx.w[:,2]\n",
    "# b0,b1,b2 = smx.b[0], smx.b[1], smx.b[2]\n",
    "# plt.plot(x,-(b0+w0[0]*x)/w0[1],'r-',label='line1')\n",
    "# plt.plot(x,-(b1+w1[0]*x)/w1[1],'r-',label='line2')\n",
    "# plt.plot(x,-(b2+w2[0]*x)/w2[1],'r-',label='line3')\n",
    "xx,yy = np.meshgrid(np.linspace(1,7,100),np.linspace(0,3,100))\n",
    "cmap_light = ListedColormap(['#FFAAAA', '#AAFFAA', '#AAAAFF'])\n",
    "cmap_bold = ListedColormap(['#FF0000', '#00FF00', '#0000FF'])\n",
    "n_features = data.shape[1]\n",
    "grid_points = np.zeros((xx.ravel().shape[0], n_features))\n",
    "\n",
    "# 绘制决策边界\n",
    "xy = np.concatenate((xx.reshape(-1,1), yy.reshape(-1,1)), axis=1)\n",
    "z = smx.predict(xy)\n",
    "plt.contourf(xx, yy, z.reshape(100,100), cmap=cmap_light, alpha=0.8)\n",
    "#\n",
    "# plt.contourf(xx, yy, Z, cmap=cmap_light, alpha=0.8)\n",
    "plt.grid(True)\n",
    "plt.legend()\n",
    "plt.axis((1,7,0,3))\n",
    "plt.show()\n"
   ],
   "id": "312b6d6f05734602",
   "outputs": [
    {
     "data": {
      "text/plain": [
       "<Figure size 640x480 with 1 Axes>"
      ],
      "image/png": "[encoded data removed]"
     },
     "metadata": {},
     "output_type": "display_data"
    }
   ],
   "execution_count": 43
  },
  {
   "metadata": {
    "ExecuteTime": {
     "end_time": "2025-08-08T01:11:09.557823Z",
     "start_time": "2025-08-08T01:11:09.542293Z"
    }
   },
   "cell_type": "code",
   "source": "z.shape",
   "id": "68b696e2d381f16",
   "outputs": [
    {
     "data": {
      "text/plain": [
       "(10000,)"
      ]
     },
     "execution_count": 45,
     "metadata": {},
     "output_type": "execute_result"
    }
   ],
   "execution_count": 45
  },
  {
   "metadata": {},
   "cell_type": "code",
   "outputs": [],
   "execution_count": null,
   "source": "",
   "id": "aa05de5c3f9b1c74"
  },
  {
   "metadata": {},
   "cell_type": "markdown",
   "source": [
    "b简答题：\n",
    "1. 如果你的训练集具有数百万个特征，那么可以使用哪种线性回归训练算法？\n",
    "随机梯度下降或者小批量梯度下降\n",
    "2. 如果你的训练集里特征的数值大小迥异，那么哪些算法可能会受到影响？受影响程度如何？你应该怎么做？\n",
    "梯度下降类的算法，k邻近值，支持向量机都会受到影响，数值大的特征会导致收敛速度慢，学习率不能设定太高，想要达到理想效果需要增加迭代次数，标准化一下\n",
    "3. 训练逻辑回归模型时，梯度下降可能会卡在局部最小值中吗？\n",
    "不会，逻辑回归的损失函数是凸函数\n",
    "4. 如果你让它们运行足够长的时间，是否所有的梯度下降算法都能得出相同的模型？\n",
    "不一定，批量梯度下降理论上是会到全局最小值，但是随机梯度下降和小批量梯度下降是会在最小值及其周围打转的\n",
    "5. 假设你使用批量梯度下降，并在每个轮次绘制验证误差。如果你发现验证错误持续上升，那么可能是什么情况？你该如何解决？\n",
    "可能是学习率过大导致的，此时可以调低学习率，也有可能是过拟合，正则化或者早停策略都可以解决\n",
    "6. 当验证误差上升时立即停止小批量梯度下降是个好主意吗？\n",
    "不是，有可能是正常的波动，最好经过多轮验证后在进行停止\n",
    "7. 哪种梯度下降算法（在我们讨论过的算法中）将最快地到达最佳解附近？哪个实际上会收敛？如何使其他的也收敛\n",
    "随机梯度下降最快（每次只迭代一个样本），批量梯度下降会收敛，采用学习率衰减策略\n",
    "8. 假设你正在使用多项式回归。绘制学习曲线后，你会发现训练误差和验证误差之间存在很大的差距。发生了什么？解决此问题的三种方法是什么？\n",
    "过拟合，增加训练数据，正则化，降低degree\n",
    "9. 假设你正在使用岭回归，并且你注意到训练误差和验证误差几乎相等且相当高。你是否会说模型存在高偏差或高方差？你应该增加正则化超参数α还是减小它呢？\n",
    "是高偏差也就是欠拟合，减小正则化参数$\\alpha$\n",
    "10. 为什么要使用：a.岭回归而不是简单的线性回归（即没有任何正则化）？b.Lasso而不是岭回归？c.弹性网络而不是Lasso回归？\n",
    "a.对于大部分样本而言普通的线性回归和可能造成欠拟合，岭回归可以通过l2正则化提高泛化能力\n",
    "b.lasso使用的是l1正则化，它在正则化的途中会将低权重的特征不断压缩，最后归0，当特征很多时可以选择lasso\n",
    "c.弹性网络既有l1正则化的特征选择，又可以处理共线问题\n",
    "11. 假设你要将图片分类为室外/室内和白天/夜间。你应该实现两个逻辑回归分类器还是一个softmax回归分类器？\n",
    "两个逻辑回归分类器，softmax适用于互斥的多分类问题，而问题上是多标签多分类问题\n"
   ],
   "id": "229af9ac6cbe1f47"
  }
 ],
 "metadata": {
  "kernelspec": {
   "display_name": "Python 3",
   "language": "python",
   "name": "python3"
  },
  "language_info": {
   "codemirror_mode": {
    "name": "ipython",
    "version": 2
   },
   "file_extension": ".py",
   "mimetype": "text/x-python",
   "name": "python",
   "nbconvert_exporter": "python",
   "pygments_lexer": "ipython2",
   "version": "2.7.6"
  }
 },
 "nbformat": 4,
 "nbformat_minor": 5
}
