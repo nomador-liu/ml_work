{
 "cells": [
  {
   "metadata": {},
   "cell_type": "markdown",
   "source": [
    "## 简答题\n",
    "1. 如果训练集有100万个实例，训练决策树（无约束）大致的深度是多少？\n",
    "log2(1*10^6) = 20\n",
    "2. 通常来说，子节点的基尼杂质是高于还是低于其父节点？是通常更高/更低？还是永远更高/更低？\n",
    "通常是更小的，但是在某个结点处可能已经接近完美分类，但是存在噪声，但是此时再分下去可能在一侧的基尼杂质上升\n",
    "3. 如果决策树过拟合训练集，减少max_depth是否为一个好主意？\n",
    "是，决策树的在不限制层高的情况下特性会无限延伸，完美拟合每一个训练集上的样本，很容易过拟合，限制层高可能在高度过拟合之前停止，来降低过拟合程度\n",
    "4. 如果决策树对训练集欠拟合，尝试缩放输入特征是否为一个好主意？\n",
    "不是，决策树本身对于数据的大小是不敏感的，他本是只是选择某一个特征通过阈值进行拆分\n",
    "5. 如果在给定的训练集上训练决策树需要一个小时，那么如果将特征数量变为两倍，训练大约需要多少时间？\n",
    "原来的2倍\n",
    "6. 如果在包含100万个实例的训练集上训练决策树需要一个小时，那么在包含1000万个实例的训练集上训练决策树，大概需要多长时间？提示：考虑CART算法的计算复杂度。\n",
    "大约10倍"
   ],
   "id": "c8b56739308b5b88"
  },
  {
   "metadata": {},
   "cell_type": "markdown",
   "source": "## 编程题",
   "id": "d57bc0d1695fa8ab"
  },
  {
   "metadata": {},
   "cell_type": "markdown",
   "source": [
    "1. 为 新月形 数据集训练并微调一棵决策树。\n",
    "\n",
    "a. 使用make_moons(n_samples=10000，noise=0.4)生成一个 新月形 数据集。\n",
    "\n",
    "b. 使用train_test_split()拆分训练集和测试集。\n",
    "\n",
    "c. 使用交叉验证的网格搜索（在GridSearchCV类的帮助下）为Decision-TreeClassifier找到适合的超参数值。提示：尝试max_leaf_nodes的多种值。\n",
    "\n",
    "d. 使用超参数对整个训练集进行训练，并测量模型在测试集上的性能。你应该得到约85%～87%的准确率。"
   ],
   "id": "df859f669d173482"
  },
  {
   "metadata": {
    "ExecuteTime": {
     "end_time": "2025-08-17T02:40:01.479391Z",
     "start_time": "2025-08-17T02:40:01.358638Z"
    }
   },
   "cell_type": "code",
   "source": [
    "# 1. 数据生成\n",
    "from sklearn.datasets import make_moons\n",
    "\n",
    "data_moons,data_moons_target = make_moons(n_samples = 10000 , noise = .4 ,random_state= 42)\n"
   ],
   "id": "f74efddd888de905",
   "outputs": [],
   "execution_count": 3
  },
  {
   "metadata": {
    "ExecuteTime": {
     "end_time": "2025-08-17T02:50:41.965733Z",
     "start_time": "2025-08-17T02:50:41.955455Z"
    }
   },
   "cell_type": "code",
   "source": [
    "# 2.区分训练测试集\n",
    "from sklearn.model_selection import train_test_split\n",
    "X_train , X_test, y_train,y_test = train_test_split(data_moons,data_moons_target , test_size = .2 , random_state = 42,stratify = data_moons_target)\n"
   ],
   "id": "b76a3a95c94325e8",
   "outputs": [],
   "execution_count": 171
  },
  {
   "metadata": {
    "ExecuteTime": {
     "end_time": "2025-08-17T02:56:48.497117Z",
     "start_time": "2025-08-17T02:56:48.482253Z"
    }
   },
   "cell_type": "code",
   "source": [
    "# 网格超参数：max_depth最大深度， max_leaf_nodes最多叶节点，min_samples_leaf叶节点不能少于的样本数 ， min_samples_split叶节点往下划分的最小样本数\n",
    "from sklearn.model_selection import GridSearchCV\n",
    "from sklearn.tree import DecisionTreeClassifier\n",
    "param_grid = {\n",
    "    \"max_depth\" : [5,6,7,8,9,10],\n",
    "    \"min_samples_split\" : [2, 5,8,10, ],\n",
    "    'max_leaf_nodes':list(range(2, 100)),\n",
    "    # 'min_samples_leaf':[3, 5, 8,10 ,15],\n",
    "    'random_state':[42],\n",
    "    \"max_features\":['sqrt']\n",
    "\n",
    "}\n",
    "# DecisionTreeClassifier()\n",
    "grid_search = GridSearchCV(DecisionTreeClassifier(),param_grid=param_grid,cv=3,scoring='accuracy',n_jobs=-1)"
   ],
   "id": "e3814edebed90937",
   "outputs": [],
   "execution_count": 266
  },
  {
   "metadata": {
    "ExecuteTime": {
     "end_time": "2025-08-17T02:56:57.326611Z",
     "start_time": "2025-08-17T02:56:49.682067Z"
    }
   },
   "cell_type": "code",
   "source": "grid_search.fit(X_train,y_train)",
   "id": "808561c3975a8774",
   "outputs": [
    {
     "data": {
      "text/plain": [
       "GridSearchCV(cv=3, estimator=DecisionTreeClassifier(), n_jobs=-1,\n",
       "             param_grid={'max_depth': [5, 6, 7, 8, 9, 10],\n",
       "                         'max_features': ['sqrt'],\n",
       "                         'max_leaf_nodes': [2, 3, 4, 5, 6, 7, 8, 9, 10, 11, 12,\n",
       "                                            13, 14, 15, 16, 17, 18, 19, 20, 21,\n",
       "                                            22, 23, 24, 25, 26, 27, 28, 29, 30,\n",
       "                                            31, ...],\n",
       "                         'min_samples_split': [2, 5, 8, 10],\n",
       "                         'random_state': [42]},\n",
       "             scoring='accuracy')"
      ],
      "text/html": [
       "<style>#sk-container-id-23 {color: black;}#sk-container-id-23 pre{padding: 0;}#sk-container-id-23 div.sk-toggleable {background-color: white;}#sk-container-id-23 label.sk-toggleable__label {cursor: pointer;display: block;width: 100%;margin-bottom: 0;padding: 0.3em;box-sizing: border-box;text-align: center;}#sk-container-id-23 label.sk-toggleable__label-arrow:before {content: \"▸\";float: left;margin-right: 0.25em;color: #696969;}#sk-container-id-23 label.sk-toggleable__label-arrow:hover:before {color: black;}#sk-container-id-23 div.sk-estimator:hover label.sk-toggleable__label-arrow:before {color: black;}#sk-container-id-23 div.sk-toggleable__content {max-height: 0;max-width: 0;overflow: hidden;text-align: left;background-color: #f0f8ff;}#sk-container-id-23 div.sk-toggleable__content pre {margin: 0.2em;color: black;border-radius: 0.25em;background-color: #f0f8ff;}#sk-container-id-23 input.sk-toggleable__control:checked~div.sk-toggleable__content {max-height: 200px;max-width: 100%;overflow: auto;}#sk-container-id-23 input.sk-toggleable__control:checked~label.sk-toggleable__label-arrow:before {content: \"▾\";}#sk-container-id-23 div.sk-estimator input.sk-toggleable__control:checked~label.sk-toggleable__label {background-color: #d4ebff;}#sk-container-id-23 div.sk-label input.sk-toggleable__control:checked~label.sk-toggleable__label {background-color: #d4ebff;}#sk-container-id-23 input.sk-hidden--visually {border: 0;clip: rect(1px 1px 1px 1px);clip: rect(1px, 1px, 1px, 1px);height: 1px;margin: -1px;overflow: hidden;padding: 0;position: absolute;width: 1px;}#sk-container-id-23 div.sk-estimator {font-family: monospace;background-color: #f0f8ff;border: 1px dotted black;border-radius: 0.25em;box-sizing: border-box;margin-bottom: 0.5em;}#sk-container-id-23 div.sk-estimator:hover {background-color: #d4ebff;}#sk-container-id-23 div.sk-parallel-item::after {content: \"\";width: 100%;border-bottom: 1px solid gray;flex-grow: 1;}#sk-container-id-23 div.sk-label:hover label.sk-toggleable__label {background-color: #d4ebff;}#sk-container-id-23 div.sk-serial::before {content: \"\";position: absolute;border-left: 1px solid gray;box-sizing: border-box;top: 0;bottom: 0;left: 50%;z-index: 0;}#sk-container-id-23 div.sk-serial {display: flex;flex-direction: column;align-items: center;background-color: white;padding-right: 0.2em;padding-left: 0.2em;position: relative;}#sk-container-id-23 div.sk-item {position: relative;z-index: 1;}#sk-container-id-23 div.sk-parallel {display: flex;align-items: stretch;justify-content: center;background-color: white;position: relative;}#sk-container-id-23 div.sk-item::before, #sk-container-id-23 div.sk-parallel-item::before {content: \"\";position: absolute;border-left: 1px solid gray;box-sizing: border-box;top: 0;bottom: 0;left: 50%;z-index: -1;}#sk-container-id-23 div.sk-parallel-item {display: flex;flex-direction: column;z-index: 1;position: relative;background-color: white;}#sk-container-id-23 div.sk-parallel-item:first-child::after {align-self: flex-end;width: 50%;}#sk-container-id-23 div.sk-parallel-item:last-child::after {align-self: flex-start;width: 50%;}#sk-container-id-23 div.sk-parallel-item:only-child::after {width: 0;}#sk-container-id-23 div.sk-dashed-wrapped {border: 1px dashed gray;margin: 0 0.4em 0.5em 0.4em;box-sizing: border-box;padding-bottom: 0.4em;background-color: white;}#sk-container-id-23 div.sk-label label {font-family: monospace;font-weight: bold;display: inline-block;line-height: 1.2em;}#sk-container-id-23 div.sk-label-container {text-align: center;}#sk-container-id-23 div.sk-container {/* jupyter's `normalize.less` sets `[hidden] { display: none; }` but bootstrap.min.css set `[hidden] { display: none !important; }` so we also need the `!important` here to be able to override the default hidden behavior on the sphinx rendered scikit-learn.org. See: https://github.com/scikit-learn/scikit-learn/issues/21755 */display: inline-block !important;position: relative;}#sk-container-id-23 div.sk-text-repr-fallback {display: none;}</style><div id=\"sk-container-id-23\" class=\"sk-top-container\"><div class=\"sk-text-repr-fallback\"><pre>GridSearchCV(cv=3, estimator=DecisionTreeClassifier(), n_jobs=-1,\n",
       "             param_grid={&#x27;max_depth&#x27;: [5, 6, 7, 8, 9, 10],\n",
       "                         &#x27;max_features&#x27;: [&#x27;sqrt&#x27;],\n",
       "                         &#x27;max_leaf_nodes&#x27;: [2, 3, 4, 5, 6, 7, 8, 9, 10, 11, 12,\n",
       "                                            13, 14, 15, 16, 17, 18, 19, 20, 21,\n",
       "                                            22, 23, 24, 25, 26, 27, 28, 29, 30,\n",
       "                                            31, ...],\n",
       "                         &#x27;min_samples_split&#x27;: [2, 5, 8, 10],\n",
       "                         &#x27;random_state&#x27;: [42]},\n",
       "             scoring=&#x27;accuracy&#x27;)</pre><b>In a Jupyter environment, please rerun this cell to show the HTML representation or trust the notebook. <br />On GitHub, the HTML representation is unable to render, please try loading this page with nbviewer.org.</b></div><div class=\"sk-container\" hidden><div class=\"sk-item sk-dashed-wrapped\"><div class=\"sk-label-container\"><div class=\"sk-label sk-toggleable\"><input class=\"sk-toggleable__control sk-hidden--visually\" id=\"sk-estimator-id-67\" type=\"checkbox\" ><label for=\"sk-estimator-id-67\" class=\"sk-toggleable__label sk-toggleable__label-arrow\">GridSearchCV</label><div class=\"sk-toggleable__content\"><pre>GridSearchCV(cv=3, estimator=DecisionTreeClassifier(), n_jobs=-1,\n",
       "             param_grid={&#x27;max_depth&#x27;: [5, 6, 7, 8, 9, 10],\n",
       "                         &#x27;max_features&#x27;: [&#x27;sqrt&#x27;],\n",
       "                         &#x27;max_leaf_nodes&#x27;: [2, 3, 4, 5, 6, 7, 8, 9, 10, 11, 12,\n",
       "                                            13, 14, 15, 16, 17, 18, 19, 20, 21,\n",
       "                                            22, 23, 24, 25, 26, 27, 28, 29, 30,\n",
       "                                            31, ...],\n",
       "                         &#x27;min_samples_split&#x27;: [2, 5, 8, 10],\n",
       "                         &#x27;random_state&#x27;: [42]},\n",
       "             scoring=&#x27;accuracy&#x27;)</pre></div></div></div><div class=\"sk-parallel\"><div class=\"sk-parallel-item\"><div class=\"sk-item\"><div class=\"sk-label-container\"><div class=\"sk-label sk-toggleable\"><input class=\"sk-toggleable__control sk-hidden--visually\" id=\"sk-estimator-id-68\" type=\"checkbox\" ><label for=\"sk-estimator-id-68\" class=\"sk-toggleable__label sk-toggleable__label-arrow\">estimator: DecisionTreeClassifier</label><div class=\"sk-toggleable__content\"><pre>DecisionTreeClassifier()</pre></div></div></div><div class=\"sk-serial\"><div class=\"sk-item\"><div class=\"sk-estimator sk-toggleable\"><input class=\"sk-toggleable__control sk-hidden--visually\" id=\"sk-estimator-id-69\" type=\"checkbox\" ><label for=\"sk-estimator-id-69\" class=\"sk-toggleable__label sk-toggleable__label-arrow\">DecisionTreeClassifier</label><div class=\"sk-toggleable__content\"><pre>DecisionTreeClassifier()</pre></div></div></div></div></div></div></div></div></div></div>"
      ]
     },
     "execution_count": 267,
     "metadata": {},
     "output_type": "execute_result"
    }
   ],
   "execution_count": 267
  },
  {
   "metadata": {
    "ExecuteTime": {
     "end_time": "2025-08-17T02:56:57.388219Z",
     "start_time": "2025-08-17T02:56:57.373194Z"
    }
   },
   "cell_type": "code",
   "source": [
    "from sklearn.metrics import accuracy_score\n",
    "y_pred = grid_search.best_estimator_.predict(X_test)\n",
    "accuracy = accuracy_score(y_test,y_pred)\n",
    "print(accuracy)"
   ],
   "id": "292b5ec582209142",
   "outputs": [
    {
     "name": "stdout",
     "output_type": "stream",
     "text": [
      "0.8585\n"
     ]
    }
   ],
   "execution_count": 268
  },
  {
   "metadata": {
    "ExecuteTime": {
     "end_time": "2025-08-17T02:56:59.688204Z",
     "start_time": "2025-08-17T02:56:59.567444Z"
    }
   },
   "cell_type": "code",
   "source": [
    "# 可视化：将测试集的数据(选200个，以免测试集2000个点在图上成一坨)，与决策边界绘到一张图上\n",
    "import numpy as np\n",
    "from matplotlib import pyplot as plt\n",
    "def plot_boundary(clf,X,y,axes,alpha = .8):\n",
    "    # 生成测试集前200个点\n",
    "    plt.scatter(X[y==0,0],X[y==0,1],color='r',marker='o',label='0' )\n",
    "    plt.scatter(X[y==1,0],X[y==1,1],color='b',marker='^',label='1')\n",
    "\n",
    "    # 将图像网格化\n",
    "    xx,yy = np.meshgrid(np.linspace(axes[0],axes[1],100),np.linspace(axes[2],axes[3],100))\n",
    "    z = clf.predict(np.c_[xx.ravel(),yy.ravel()]).reshape(xx.shape)\n",
    "\n",
    "    # 画出等高线\n",
    "    plt.contourf(xx, yy, z, alpha=alpha, cmap=plt.cm.coolwarm , )\n",
    "    plt.contour(xx, yy, z, linewidths=2, colors='black')\n",
    "\n",
    "    plt.legend()\n",
    "    plt.xlabel('$x_1$')\n",
    "    plt.ylabel('$x_2$')\n",
    "\n",
    "    plt.axis(axes)\n",
    "    plt.show()\n",
    "\n",
    "X_plot, y_plot = X_test[:200] , y_test[:200]\n",
    "plot_boundary(grid_search.best_estimator_ , X_plot,y_plot,[X_plot.min(axis=0)[0]-0.1,X_plot.max(axis=0)[0]+0.1,X_plot.min(axis=0)[1]-0.1,X_plot.max(axis=0)[1]+0.1] , alpha=.5)"
   ],
   "id": "ce9eedd6de0d81ea",
   "outputs": [
    {
     "data": {
      "text/plain": [
       "<Figure size 640x480 with 1 Axes>"
      ],
      "image/png": "[encoded data removed]"
     },
     "metadata": {},
     "output_type": "display_data"
    }
   ],
   "execution_count": 269
  },
  {
   "metadata": {},
   "cell_type": "markdown",
   "source": [
    "2. 按照以下步骤种植森林。\n",
    "\n",
    "a.继续之前的练习，生产1000个训练集子集，每个子集包含随机挑选的100个实例。提示：使用Scikit-Learn的ShuffleSplit类来实现。\n",
    "\n",
    "b.使用前面得到的最佳超参数值，在每个子集上训练一棵决策树。在测试集上评估这1000棵决策树。因为训练集更小，所以这些决策树的表现可能比第一棵决策树要差一些，只能达到约80%的精度。\n",
    "\n",
    "c.见证奇迹的时刻到了。用每个测试集实例，生成1000棵决策树的预测，然后仅保留次数最频繁的预测［可以使用SciPy的mode()函数］。这样你在测试集上可获得大多数投票的预测结果。\n",
    "\n",
    "d.评估测试集上的这些预测，你得到的准确率应该比第一个模型更高（高出0.5%～1.5%）。恭喜，你已经训练出了一个随机森林分类器！"
   ],
   "id": "ed6c04b5518d9498"
  },
  {
   "metadata": {
    "ExecuteTime": {
     "end_time": "2025-08-17T02:57:00.850358Z",
     "start_time": "2025-08-17T02:57:00.838067Z"
    }
   },
   "cell_type": "code",
   "source": [
    "from sklearn.model_selection import ShuffleSplit\n",
    "shufflesplit = ShuffleSplit(n_splits=1000,train_size=100,random_state=42)\n",
    "set_ = shufflesplit.split(X_train,y_train)"
   ],
   "id": "c73f731a299a3a99",
   "outputs": [],
   "execution_count": 270
  },
  {
   "metadata": {
    "ExecuteTime": {
     "end_time": "2025-08-17T02:57:01.228100Z",
     "start_time": "2025-08-17T02:57:01.218060Z"
    }
   },
   "cell_type": "code",
   "source": [
    "# 生成最佳的树\n",
    "best_params = grid_search.best_params_\n",
    "best_estimator = DecisionTreeClassifier(**best_params)"
   ],
   "id": "8b03166dc86687f2",
   "outputs": [],
   "execution_count": 271
  },
  {
   "metadata": {
    "ExecuteTime": {
     "end_time": "2025-08-17T02:57:02.937717Z",
     "start_time": "2025-08-17T02:57:01.646789Z"
    }
   },
   "cell_type": "code",
   "source": [
    "from sklearn.base import clone\n",
    "trees = []              # 保存每一个树的模型\n",
    "tree_accuracies = []    # 保存每个树的分数\n",
    "for idx,_ in set_:\n",
    "    X_subset = X_train[idx]\n",
    "    y_subset = y_train[idx]\n",
    "\n",
    "    tree = clone(best_estimator)\n",
    "    tree.fit(X_subset,y_subset)\n",
    "    trees.append(tree)\n",
    "\n",
    "    y_pred_ = tree.predict(X_test)\n",
    "    accuracy_ = accuracy_score(y_test,y_pred_)\n",
    "    tree_accuracies.append(accuracy_)\n"
   ],
   "id": "ab5dd470e06f762e",
   "outputs": [],
   "execution_count": 272
  },
  {
   "metadata": {
    "ExecuteTime": {
     "end_time": "2025-08-17T02:57:02.981196Z",
     "start_time": "2025-08-17T02:57:02.968914Z"
    }
   },
   "cell_type": "code",
   "source": [
    "# trees\n",
    "np.mean(tree_accuracies) # 都只有0.78左右"
   ],
   "id": "80601a02b24c5217",
   "outputs": [
    {
     "data": {
      "text/plain": [
       "0.8036935000000001"
      ]
     },
     "execution_count": 273,
     "metadata": {},
     "output_type": "execute_result"
    }
   ],
   "execution_count": 273
  },
  {
   "metadata": {
    "ExecuteTime": {
     "end_time": "2025-08-17T02:57:03.487340Z",
     "start_time": "2025-08-17T02:57:03.477317Z"
    }
   },
   "cell_type": "code",
   "source": [
    "# todo:定义一个tree_predict 进行预测\n",
    "from scipy.stats import mode\n",
    "def tree_predict(trees , X,y=None):\n",
    "    predictions = np.zeros((len(X), len(trees)))\n",
    "    for i, tree in enumerate(trees):\n",
    "        predictions[:, i] = tree.predict(X)\n",
    "\n",
    "    majority_votes, _ = mode(predictions, axis=1)\n",
    "    return majority_votes.flatten()\n"
   ],
   "id": "768f0ea9d8d70cb1",
   "outputs": [],
   "execution_count": 274
  },
  {
   "metadata": {
    "ExecuteTime": {
     "end_time": "2025-08-17T02:57:04.118230Z",
     "start_time": "2025-08-17T02:57:03.882857Z"
    }
   },
   "cell_type": "code",
   "source": "y_pred = tree_predict(trees , X_test)",
   "id": "3592ccb969fc79fa",
   "outputs": [],
   "execution_count": 275
  },
  {
   "metadata": {
    "ExecuteTime": {
     "end_time": "2025-08-17T02:57:05.201834Z",
     "start_time": "2025-08-17T02:57:05.195859Z"
    }
   },
   "cell_type": "code",
   "source": [
    "accuracy_score(y_test,y_pred)\n",
    "# y_pred.shape"
   ],
   "id": "f8d882feb7d4b5da",
   "outputs": [
    {
     "data": {
      "text/plain": [
       "0.865"
      ]
     },
     "execution_count": 276,
     "metadata": {},
     "output_type": "execute_result"
    }
   ],
   "execution_count": 276
  },
  {
   "metadata": {
    "ExecuteTime": {
     "end_time": "2025-08-17T02:57:06.299254Z",
     "start_time": "2025-08-17T02:57:06.288216Z"
    }
   },
   "cell_type": "code",
   "source": "grid_search.best_params_",
   "id": "abe91359077d0968",
   "outputs": [
    {
     "data": {
      "text/plain": [
       "{'max_depth': 7,\n",
       " 'max_features': 'sqrt',\n",
       " 'max_leaf_nodes': 33,\n",
       " 'min_samples_split': 8,\n",
       " 'random_state': 42}"
      ]
     },
     "execution_count": 277,
     "metadata": {},
     "output_type": "execute_result"
    }
   ],
   "execution_count": 277
  },
  {
   "metadata": {
    "ExecuteTime": {
     "end_time": "2025-08-17T03:22:38.253342Z",
     "start_time": "2025-08-17T03:22:38.247715Z"
    }
   },
   "cell_type": "code",
   "source": "",
   "id": "d0425972638be55e",
   "outputs": [],
   "execution_count": null
  },
  {
   "metadata": {
    "ExecuteTime": {
     "end_time": "2025-08-17T03:22:38.531517Z",
     "start_time": "2025-08-17T03:22:38.521485Z"
    }
   },
   "cell_type": "code",
   "source": "",
   "id": "222ad68e119f9dd8",
   "outputs": [],
   "execution_count": null
  },
  {
   "metadata": {
    "ExecuteTime": {
     "end_time": "2025-08-17T03:22:38.756415Z",
     "start_time": "2025-08-17T03:22:38.746467Z"
    }
   },
   "cell_type": "code",
   "source": "",
   "id": "23ac1e2b1e8892b5",
   "outputs": [],
   "execution_count": null
  },
  {
   "metadata": {
    "ExecuteTime": {
     "end_time": "2025-08-17T03:22:38.996759Z",
     "start_time": "2025-08-17T03:22:38.987533Z"
    }
   },
   "cell_type": "code",
   "source": "",
   "id": "494f26e9bc6c75a6",
   "outputs": [],
   "execution_count": null
  },
  {
   "metadata": {},
   "cell_type": "code",
   "outputs": [],
   "execution_count": null,
   "source": "",
   "id": "170f191c84650cd1"
  }
 ],
 "metadata": {
  "kernelspec": {
   "display_name": "Python 3",
   "language": "python",
   "name": "python3"
  },
  "language_info": {
   "codemirror_mode": {
    "name": "ipython",
    "version": 2
   },
   "file_extension": ".py",
   "mimetype": "text/x-python",
   "name": "python",
   "nbconvert_exporter": "python",
   "pygments_lexer": "ipython2",
   "version": "2.7.6"
  }
 },
 "nbformat": 4,
 "nbformat_minor": 5
}
